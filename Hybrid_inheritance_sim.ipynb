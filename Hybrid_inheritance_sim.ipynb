{
 "cells": [
  {
   "cell_type": "markdown",
   "id": "e009c457-5b95-44fd-93a3-3eb736a11ca3",
   "metadata": {},
   "source": [
    "# Hybrid Inheritance Simulation "
   ]
  },
  {
   "cell_type": "markdown",
   "id": "39886fb1-438d-4f56-8619-4a4d9df354f3",
   "metadata": {},
   "source": [
    "### Packages to import or install "
   ]
  },
  {
   "cell_type": "code",
   "execution_count": 37,
   "id": "9b2fcc44-3e90-4500-abb7-cfd7fc58d169",
   "metadata": {},
   "outputs": [],
   "source": [
    "import numpy as np\n",
    "import iter"
   ]
  },
  {
   "cell_type": "code",
   "execution_count": 122,
   "id": "bb9c06a4-b152-4bf3-95b0-ebb09d4ed2f5",
   "metadata": {},
   "outputs": [],
   "source": [
    "# Constants for parental flower colour representation\n",
    "\n",
    "MAGENTA = 2\n",
    "YELLOW = 0"
   ]
  },
  {
   "cell_type": "code",
   "execution_count": 123,
   "id": "fe1a5ffd-f2ea-404c-96fa-09a91fc0fbce",
   "metadata": {},
   "outputs": [],
   "source": [
    "# Number of individuals in each parent population\n",
    "\n",
    "n = 10"
   ]
  },
  {
   "cell_type": "code",
   "execution_count": 124,
   "id": "de7f71f8-3f03-4f0d-9330-68e9a8e3916c",
   "metadata": {},
   "outputs": [],
   "source": [
    "# Create parent population \n",
    "\n",
    "magenta_parent = np.full(n, MAGENTA) #Magenta flowers \n",
    "yellow_parent = np.full(n,YELLOW)"
   ]
  },
  {
   "cell_type": "code",
   "execution_count": 125,
   "id": "2f2d8393-eb74-47af-bb50-d145d82a1979",
   "metadata": {},
   "outputs": [
    {
     "name": "stdout",
     "output_type": "stream",
     "text": [
      "Magenta parent population: [2 2 2 2 2 2 2 2 2 2]\n",
      "Yellow parent popualtion: [0 0 0 0 0 0 0 0 0 0]\n"
     ]
    }
   ],
   "source": [
    "print(\"Magenta parent population:\", magenta_parent)\n",
    "print(\"Yellow parent popualtion:\", yellow_parent)"
   ]
  },
  {
   "cell_type": "code",
   "execution_count": 126,
   "id": "d8039c55-85b6-44c6-b7bd-92af855fe272",
   "metadata": {},
   "outputs": [],
   "source": [
    "# Create F1 generation \n",
    "\n",
    "f1_offspring = (magenta_parent + yellow_parent) // 2 # Taking the value of each parent and halving it on the basis of 50:50 genetic inhertiance."
   ]
  },
  {
   "cell_type": "code",
   "execution_count": 127,
   "id": "cb2402d7-149a-4e9f-bdf8-bf4f0f6811d3",
   "metadata": {},
   "outputs": [
    {
     "name": "stdout",
     "output_type": "stream",
     "text": [
      "F1 Generation (Offspring): [1 1 1 1 1 1 1 1 1 1]\n"
     ]
    }
   ],
   "source": [
    "print(\"F1 Generation (Offspring):\", f1_offspring)"
   ]
  },
  {
   "cell_type": "code",
   "execution_count": 115,
   "id": "12901bde-012f-4027-9c56-4cc27e9273f1",
   "metadata": {},
   "outputs": [],
   "source": [
    "# Pick two F1 parents from population at random\n",
    "\n",
    "parent_indices = np.random.choice(len(f1_offspring), 2, replace=False) #Does not allow the same individual F1 parent to be selected twice (no selfing))\n"
   ]
  },
  {
   "cell_type": "code",
   "execution_count": 116,
   "id": "62cc727f-bc0a-4a11-9e07-4903c024d0b3",
   "metadata": {},
   "outputs": [
    {
     "name": "stdout",
     "output_type": "stream",
     "text": [
      "Parent A genotype: 1, alleles: ['M', 'Y']\n",
      "Parent B genotype: 1, alleles: ['M', 'Y']\n"
     ]
    }
   ],
   "source": [
    "# Get F1 parents genotypes (1 =MY)\n",
    "\n",
    "# Get genotypes of selected F1 parents\n",
    "parent_a_genotype = f1_offspring[parent_indices[0]]\n",
    "parent_b_genotype = f1_offspring[parent_indices[1]]\n",
    "\n",
    "# Function to convert genotype number to allele pair\n",
    "def genotype_to_alleles(genotype):\n",
    "    if genotype == 2:\n",
    "        return ['M', 'M']\n",
    "    elif genotype == 1:\n",
    "        return ['M', 'Y']\n",
    "    elif genotype == 0:\n",
    "        return ['Y', 'Y']\n",
    "    else:\n",
    "        raise ValueError(\"Unexpected genotype value: must be 0, 1, or 2\")\n",
    "\n",
    "# Assign alleles automatically\n",
    "f1_parent_a_alleles = genotype_to_alleles(parent_a_genotype)\n",
    "f1_parent_b_alleles = genotype_to_alleles(parent_b_genotype)\n",
    "\n",
    "# Print check\n",
    "print(f\"Parent A genotype: {parent_a_genotype}, alleles: {f1_parent_a_alleles}\")\n",
    "print(f\"Parent B genotype: {parent_b_genotype}, alleles: {f1_parent_b_alleles}\")"
   ]
  },
  {
   "cell_type": "code",
   "execution_count": 117,
   "id": "7b835a92-76f0-4dea-a37c-0691dcbac14c",
   "metadata": {},
   "outputs": [],
   "source": [
    "# Recombination settings \n",
    "\n",
    "# Random seed used for reproducibility (optional)\n",
    "np.random.seed(12) #If you do not want the seed set and want randomisation comment out this line.\n",
    "recombination_mode = \"block\" #options: block or independent\n",
    "total_segments = 5 # division across the chromosome (for the purpose of block mode)\n",
    "chromosome_length = 50 #total positions in the chromosome\n"
   ]
  },
  {
   "cell_type": "code",
   "execution_count": 118,
   "id": "f17499c2-f320-4fd1-b6d8-ba170b444a86",
   "metadata": {},
   "outputs": [],
   "source": [
    "#F2 output\n",
    "\n",
    "f2_chromosome = []"
   ]
  },
  {
   "cell_type": "code",
   "execution_count": 119,
   "id": "fbb8c393-df75-4808-8bc9-23bd2f36cfcd",
   "metadata": {},
   "outputs": [],
   "source": [
    "# F2 Offspring simulation\n",
    "\n",
    "max_attempts = 1000\n",
    "attempts = 0\n",
    "valid_chromosome = False\n",
    "\n",
    "while not valid_chromosome and attempts < max_attempts:\n",
    "    attempts += 1\n",
    "    f2_chromosome = []\n",
    "\n",
    "    if recombination_mode == \"block\":\n",
    "        block_sizes = np.random.multinomial(chromosome_length, [1/total_segments]*total_segments)\n",
    "        for block_size in block_sizes:\n",
    "            allele_a = np.random.choice(f1_parent_a_alleles)\n",
    "            allele_b = np.random.choice(f1_parent_b_alleles)\n",
    "\n",
    "            alleles = sorted([allele_a, allele_b])\n",
    "            if alleles == ['M', 'M']:\n",
    "                value = 2\n",
    "            elif alleles == ['Y', 'Y']:\n",
    "                value = 0\n",
    "            else:\n",
    "                value = 1\n",
    "\n",
    "            f2_chromosome.extend([value] * block_size)\n",
    "\n",
    "    elif recombination_mode == \"independent\":\n",
    "        for _ in range(chromosome_length):\n",
    "            allele_a = np.random.choice(f1_parent_a_alleles)\n",
    "            allele_b = np.random.choice(f1_parent_b_alleles)\n",
    "\n",
    "            alleles = sorted([allele_a, allele_b])\n",
    "            if alleles == ['M', 'M']:\n",
    "                value = 2\n",
    "            elif alleles == ['Y', 'Y']:\n",
    "                value = 0\n",
    "            else:\n",
    "                value = 1\n",
    "\n",
    "            f2_chromosome.append(value)\n",
    "    else:\n",
    "        raise ValueError(\"Invalid recombination mode\")\n"
   ]
  },
  {
   "cell_type": "code",
   "execution_count": 120,
   "id": "b7c90051-d6b4-4c0a-9850-7c6b72b41215",
   "metadata": {},
   "outputs": [],
   "source": [
    "# Check all genotype values are present\n",
    "\n",
    "if all(x in f2_chromosome for x in [0,1,2]):\n",
    "    valid_chromosome = True"
   ]
  },
  {
   "cell_type": "code",
   "execution_count": 121,
   "id": "af326975-0e58-4338-9125-a9027ecae770",
   "metadata": {},
   "outputs": [
    {
     "name": "stdout",
     "output_type": "stream",
     "text": [
      "F2 Chromosome: [0, 0, 0, 0, 0, 0, 1, 1, 1, 1, 1, 1, 1, 1, 1, 1, 1, 1, 1, 1, 1, 1, 1, 1, 1, 1, 1, 1, 1, 1, 1, 1, 1, 1, 1, 1, 1, 1, 1, 1, 1, 2, 2, 2, 2, 2, 2, 2, 2, 2]\n"
     ]
    }
   ],
   "source": [
    "#F2 Output\n",
    "\n",
    "if valid_chromosome:\n",
    "    print(\"F2 Chromosome:\", f2_chromosome)\n",
    "else:\n",
    "    print(\"Warning: Failed to generate a valid chromosome after\", max_attempts, \"attempts.\")"
   ]
  },
  {
   "cell_type": "code",
   "execution_count": null,
   "id": "d3ef3b42-cbde-4d94-be8d-6041d6f83562",
   "metadata": {},
   "outputs": [],
   "source": []
  }
 ],
 "metadata": {
  "kernelspec": {
   "display_name": "Python 3 (ipykernel)",
   "language": "python",
   "name": "python3"
  },
  "language_info": {
   "codemirror_mode": {
    "name": "ipython",
    "version": 3
   },
   "file_extension": ".py",
   "mimetype": "text/x-python",
   "name": "python",
   "nbconvert_exporter": "python",
   "pygments_lexer": "ipython3",
   "version": "3.12.9"
  }
 },
 "nbformat": 4,
 "nbformat_minor": 5
}

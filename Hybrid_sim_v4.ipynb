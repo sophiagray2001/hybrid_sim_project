{
 "cells": [
  {
   "cell_type": "markdown",
   "id": "8b0e0aec-3a63-4223-b233-7bbbf27316e8",
   "metadata": {},
   "source": [
    "## Hybrid Sim V4"
   ]
  },
  {
   "cell_type": "code",
   "execution_count": 1,
   "id": "dba354c9-a7ab-451d-bd61-ed85f558c387",
   "metadata": {
    "scrolled": true
   },
   "outputs": [],
   "source": [
    "# Import libraries\n",
    "import numpy as np\n",
    "import matplotlib.pyplot as plt\n",
    "import matplotlib.patches as mpatches\n",
    "import random"
   ]
  },
  {
   "cell_type": "code",
   "execution_count": 2,
   "id": "ad81234a-decc-41b1-9f36-43f31e63173a",
   "metadata": {
    "scrolled": true
   },
   "outputs": [],
   "source": [
    "# Set a random seed for reproducibility (if not required comment out line)\n",
    "\n",
    "np.random.seed(38)\n",
    "random.seed(38)"
   ]
  },
  {
   "cell_type": "code",
   "execution_count": 3,
   "id": "56aad701-f803-4c1b-80e8-da5aa6c9151f",
   "metadata": {},
   "outputs": [],
   "source": [
    "# Define constants\n",
    "chromosome_length = 15 # Total number of positions (loci) on the chromosome \n",
    "MAGENTA = 'M'\n",
    "YELLOW = 'Y'"
   ]
  },
  {
   "cell_type": "code",
   "execution_count": 4,
   "id": "f23cb462-7015-4f24-9214-3f4dd7957e93",
   "metadata": {},
   "outputs": [],
   "source": [
    "#Option to change recombination probability. \n",
    "\n",
    "use_uniform_recomb = True  # Change to False to use custom recombination prob.\n",
    "\n",
    "if use_uniform_recomb:\n",
    "    recomb_probs = [0.1] * chromosome_length  # Same recombination probability across all positions\n",
    "    # 10% chance\n",
    "else:\n",
    "    recomb_probs = [0.01, 0.05, 0.2, 0.2, 0.05, 0.01, 0.01, 0.05, 0.2, 0.2, 0.05, 0.01, 0.01, 0.05, 0.01]\n"
   ]
  },
  {
   "cell_type": "markdown",
   "id": "950c3582-2a92-4afc-aa92-c7f2ee99afab",
   "metadata": {},
   "source": [
    "### Parent generation"
   ]
  },
  {
   "cell_type": "code",
   "execution_count": 5,
   "id": "6ca3379f-6389-49f5-997d-10ff73c23e79",
   "metadata": {},
   "outputs": [],
   "source": [
    "# Create MM and YY parent populations \n",
    "num_magenta = 10\n",
    "num_yellow = 10\n",
    "\n",
    "magenta_parents = [\n",
    "    [[MAGENTA] * chromosome_length, [MAGENTA] * chromosome_length]\n",
    "    for _ in range(num_magenta)\n",
    "]\n",
    "\n",
    "yellow_parents = [\n",
    "    [[YELLOW] * chromosome_length, [YELLOW] * chromosome_length]\n",
    "    for _ in range(num_yellow)\n",
    "]"
   ]
  },
  {
   "cell_type": "code",
   "execution_count": 6,
   "id": "9a215666-25bb-4d56-b581-b21163f674ba",
   "metadata": {},
   "outputs": [
    {
     "name": "stdout",
     "output_type": "stream",
     "text": [
      "Example Magenta (MM) Parent:\n",
      "Strand: ['M', 'M', 'M', 'M', 'M', 'M', 'M', 'M', 'M', 'M', 'M', 'M', 'M', 'M', 'M']\n",
      "Strand: ['M', 'M', 'M', 'M', 'M', 'M', 'M', 'M', 'M', 'M', 'M', 'M', 'M', 'M', 'M']\n",
      "\n",
      "Example Yellow (YY) Parent:\n",
      "Strand: ['Y', 'Y', 'Y', 'Y', 'Y', 'Y', 'Y', 'Y', 'Y', 'Y', 'Y', 'Y', 'Y', 'Y', 'Y']\n",
      "Strand: ['Y', 'Y', 'Y', 'Y', 'Y', 'Y', 'Y', 'Y', 'Y', 'Y', 'Y', 'Y', 'Y', 'Y', 'Y']\n",
      "\n",
      "Total MM parents: 10\n",
      "Total YY parents: 10\n"
     ]
    }
   ],
   "source": [
    "# Checkpoint\n",
    "# View example MM and YY parents\n",
    "print(\"Example Magenta (MM) Parent:\")\n",
    "for strand in magenta_parents[0]:\n",
    "    print(\"Strand:\", strand)\n",
    "\n",
    "print(\"\\nExample Yellow (YY) Parent:\")\n",
    "for strand in yellow_parents[0]:\n",
    "    print(\"Strand:\", strand)\n",
    "\n",
    "# Print total number of individuals\n",
    "print(f\"\\nTotal MM parents: {len(magenta_parents)}\")\n",
    "print(f\"Total YY parents: {len(yellow_parents)}\")\n"
   ]
  },
  {
   "cell_type": "markdown",
   "id": "aefd6d05-3984-42b5-83ea-1125fad255b9",
   "metadata": {},
   "source": [
    "### F1 generation"
   ]
  },
  {
   "cell_type": "code",
   "execution_count": 7,
   "id": "cc19d1ad-27ec-4772-bd5e-0c23145598ca",
   "metadata": {},
   "outputs": [],
   "source": [
    "# Function to generate F1 individual pop from MM x YY\n",
    "def generate_f1_population_from_parents(n, magenta_pool, yellow_pool):\n",
    "    f1_population = []\n",
    "    f1_parent_indices = []  # Store the (MM, YY) parent indices for each F1 individual\n",
    "\n",
    "    for _ in range(n):\n",
    "        mm_index = random.randint(0, len(magenta_pool) - 1)\n",
    "        yy_index = random.randint(0, len(yellow_pool) - 1)\n",
    "\n",
    "        mm_parent = magenta_pool[mm_index]\n",
    "        yy_parent = yellow_pool[yy_index]\n",
    "\n",
    "        strand1 = mm_parent[0]  # Take one strand from MM\n",
    "        strand2 = yy_parent[1]  # Take one strand from YY\n",
    "\n",
    "        f1_population.append([strand1.copy(), strand2.copy()])\n",
    "        f1_parent_indices.append((mm_index, yy_index))  # Save parent indices\n",
    "\n",
    "    return f1_population, f1_parent_indices"
   ]
  },
  {
   "cell_type": "code",
   "execution_count": 8,
   "id": "deaa3dde-f387-49ad-be4e-14ca6b334472",
   "metadata": {},
   "outputs": [],
   "source": [
    "# Generate F1 offspring\n",
    "# This function selects one random MM parent and one random YY parent for each F1 individual to simulate a cross between them.\n",
    "# Each resulting offspring has one strand from MM and one from YY.\n",
    "f1_offspring, f1_parent_indices = generate_f1_population_from_parents(\n",
    "    n=10, magenta_pool=magenta_parents, yellow_pool=yellow_parents\n",
    ")"
   ]
  },
  {
   "cell_type": "code",
   "execution_count": 9,
   "id": "04388e19-cfbc-4db4-a9f8-d7b941667d86",
   "metadata": {},
   "outputs": [
    {
     "name": "stdout",
     "output_type": "stream",
     "text": [
      "[[['M', 'M', 'M', 'M', 'M', 'M', 'M', 'M', 'M', 'M', 'M', 'M', 'M', 'M', 'M'], ['Y', 'Y', 'Y', 'Y', 'Y', 'Y', 'Y', 'Y', 'Y', 'Y', 'Y', 'Y', 'Y', 'Y', 'Y']], [['M', 'M', 'M', 'M', 'M', 'M', 'M', 'M', 'M', 'M', 'M', 'M', 'M', 'M', 'M'], ['Y', 'Y', 'Y', 'Y', 'Y', 'Y', 'Y', 'Y', 'Y', 'Y', 'Y', 'Y', 'Y', 'Y', 'Y']], [['M', 'M', 'M', 'M', 'M', 'M', 'M', 'M', 'M', 'M', 'M', 'M', 'M', 'M', 'M'], ['Y', 'Y', 'Y', 'Y', 'Y', 'Y', 'Y', 'Y', 'Y', 'Y', 'Y', 'Y', 'Y', 'Y', 'Y']], [['M', 'M', 'M', 'M', 'M', 'M', 'M', 'M', 'M', 'M', 'M', 'M', 'M', 'M', 'M'], ['Y', 'Y', 'Y', 'Y', 'Y', 'Y', 'Y', 'Y', 'Y', 'Y', 'Y', 'Y', 'Y', 'Y', 'Y']], [['M', 'M', 'M', 'M', 'M', 'M', 'M', 'M', 'M', 'M', 'M', 'M', 'M', 'M', 'M'], ['Y', 'Y', 'Y', 'Y', 'Y', 'Y', 'Y', 'Y', 'Y', 'Y', 'Y', 'Y', 'Y', 'Y', 'Y']], [['M', 'M', 'M', 'M', 'M', 'M', 'M', 'M', 'M', 'M', 'M', 'M', 'M', 'M', 'M'], ['Y', 'Y', 'Y', 'Y', 'Y', 'Y', 'Y', 'Y', 'Y', 'Y', 'Y', 'Y', 'Y', 'Y', 'Y']], [['M', 'M', 'M', 'M', 'M', 'M', 'M', 'M', 'M', 'M', 'M', 'M', 'M', 'M', 'M'], ['Y', 'Y', 'Y', 'Y', 'Y', 'Y', 'Y', 'Y', 'Y', 'Y', 'Y', 'Y', 'Y', 'Y', 'Y']], [['M', 'M', 'M', 'M', 'M', 'M', 'M', 'M', 'M', 'M', 'M', 'M', 'M', 'M', 'M'], ['Y', 'Y', 'Y', 'Y', 'Y', 'Y', 'Y', 'Y', 'Y', 'Y', 'Y', 'Y', 'Y', 'Y', 'Y']], [['M', 'M', 'M', 'M', 'M', 'M', 'M', 'M', 'M', 'M', 'M', 'M', 'M', 'M', 'M'], ['Y', 'Y', 'Y', 'Y', 'Y', 'Y', 'Y', 'Y', 'Y', 'Y', 'Y', 'Y', 'Y', 'Y', 'Y']], [['M', 'M', 'M', 'M', 'M', 'M', 'M', 'M', 'M', 'M', 'M', 'M', 'M', 'M', 'M'], ['Y', 'Y', 'Y', 'Y', 'Y', 'Y', 'Y', 'Y', 'Y', 'Y', 'Y', 'Y', 'Y', 'Y', 'Y']]]\n"
     ]
    }
   ],
   "source": [
    "# Checkpoint \n",
    "\n",
    "print(f1_offspring)"
   ]
  },
  {
   "cell_type": "code",
   "execution_count": 10,
   "id": "85b9b62f-1e90-4176-81d0-a5da4b1ed6ea",
   "metadata": {},
   "outputs": [],
   "source": [
    "# Pick two distinct F1 parents at random from F1 population\n",
    "parent_indices = np.random.choice(len(f1_offspring), 2, replace=False) # The same individual can not be picked twice.\n",
    "\n",
    "# Get the F1 individual corresponding to the first selected index \n",
    "parent_a = f1_offspring[parent_indices[0]]\n",
    "# Get the F1 individual corresponding to the second selected index\n",
    "parent_b = f1_offspring[parent_indices[1]]"
   ]
  },
  {
   "cell_type": "code",
   "execution_count": 11,
   "id": "128a9d4c-6bd6-41cb-bebf-061290ba076a",
   "metadata": {
    "scrolled": true
   },
   "outputs": [
    {
     "name": "stdout",
     "output_type": "stream",
     "text": [
      "[['M', 'M', 'M', 'M', 'M', 'M', 'M', 'M', 'M', 'M', 'M', 'M', 'M', 'M', 'M'], ['Y', 'Y', 'Y', 'Y', 'Y', 'Y', 'Y', 'Y', 'Y', 'Y', 'Y', 'Y', 'Y', 'Y', 'Y']]\n",
      "[['M', 'M', 'M', 'M', 'M', 'M', 'M', 'M', 'M', 'M', 'M', 'M', 'M', 'M', 'M'], ['Y', 'Y', 'Y', 'Y', 'Y', 'Y', 'Y', 'Y', 'Y', 'Y', 'Y', 'Y', 'Y', 'Y', 'Y']]\n"
     ]
    }
   ],
   "source": [
    "# Checkpoint\n",
    "\n",
    "print(parent_a)\n",
    "print(parent_b)"
   ]
  },
  {
   "cell_type": "code",
   "execution_count": 12,
   "id": "78c81f54-c1d2-4e70-b6b3-ea44642737db",
   "metadata": {},
   "outputs": [
    {
     "name": "stdout",
     "output_type": "stream",
     "text": [
      "[8 0]\n"
     ]
    }
   ],
   "source": [
    "# Checkpoint\n",
    "\n",
    "print(parent_indices)"
   ]
  },
  {
   "cell_type": "code",
   "execution_count": 13,
   "id": "b0108747-bdf0-4e6a-91f8-930152f6f4f2",
   "metadata": {},
   "outputs": [],
   "source": [
    "# Get which MM and YY parents made each selected F1 parent\n",
    "f1a_mm_index, f1a_yy_index = f1_parent_indices[parent_indices[0]]\n",
    "f1b_mm_index, f1b_yy_index = f1_parent_indices[parent_indices[1]]\n",
    "\n",
    "# Fetch the actual individuals\n",
    "mm_parent_a = magenta_parents[f1a_mm_index]\n",
    "yy_parent_a = yellow_parents[f1a_yy_index]\n",
    "\n",
    "mm_parent_b = magenta_parents[f1b_mm_index]\n",
    "yy_parent_b = yellow_parents[f1b_yy_index]\n",
    "\n",
    "# F1 individuals already known:\n",
    "f1_a = parent_a\n",
    "f1_b = parent_b"
   ]
  },
  {
   "cell_type": "code",
   "execution_count": 24,
   "id": "ddf95260-cf76-498d-90f9-273b20213fc1",
   "metadata": {},
   "outputs": [
    {
     "data": {
      "image/png": "[encoded data removed]",
      "text/plain": [
       "<Figure size 1400x300 with 8 Axes>"
      ]
     },
     "metadata": {},
     "output_type": "display_data"
    }
   ],
   "source": [
    "# Set up colour map\n",
    "color_map = {'M': 'deeppink', 'Y': 'gold'}\n",
    "\n",
    "# Create figure: 4 parents in columns, 2 strands (rows) per individual\n",
    "fig, axs = plt.subplots(2, 4, figsize=(14, 3), sharex=True)\n",
    "\n",
    "# Titles for columns (individuals)\n",
    "titles = [\"MM Parent A\", \"YY Parent A\", \"MM Parent B\", \"YY Parent B\"]\n",
    "\n",
    "# Strand data grouped per individual\n",
    "parent_strand_pairs = [\n",
    "    (mm_parent_a[0], mm_parent_a[1]),\n",
    "    (yy_parent_a[0], yy_parent_a[1]),\n",
    "    (mm_parent_b[0], mm_parent_b[1]),\n",
    "    (yy_parent_b[0], yy_parent_b[1])\n",
    "]\n",
    "\n",
    "# Plot each individual's strands\n",
    "for col, (strand1, strand2) in enumerate(parent_strand_pairs):\n",
    "    for row, strand in enumerate([strand1, strand2]):\n",
    "        for i, allele in enumerate(strand):\n",
    "            axs[row][col].add_patch(mpatches.Rectangle((i, 0), 1, 1, color=color_map[allele]))\n",
    "        axs[row][col].set_xlim(0, chromosome_length)\n",
    "        axs[row][col].set_ylim(0, 1)\n",
    "        axs[row][col].axis('off')\n",
    "\n",
    "    # Add title above column\n",
    "    axs[0][col].set_title(titles[col], fontsize=10)\n",
    "\n",
    "# Add strand labels to left side\n",
    "axs[0][0].text(-2, 0.5, \"Strand 1\", va='center', ha='right', fontsize=10)\n",
    "axs[1][0].text(-2, 0.5, \"Strand 2\", va='center', ha='right', fontsize=10)\n",
    "\n",
    "# Add legend\n",
    "legend_patches = [\n",
    "    mpatches.Patch(color='deeppink', label='M (Magenta)'),\n",
    "    mpatches.Patch(color='gold', label='Y (Yellow)')\n",
    "]\n",
    "axs[0][3].legend(handles=legend_patches, loc='center left', bbox_to_anchor=(1, 0.5), frameon=False)\n",
    "\n",
    "plt.tight_layout()\n",
    "plt.show()"
   ]
  },
  {
   "cell_type": "code",
   "execution_count": 25,
   "id": "018ada39-fbc2-4792-89bc-cfe45443e1eb",
   "metadata": {},
   "outputs": [
    {
     "data": {
      "image/png": "[encoded data removed]",
      "text/plain": [
       "<Figure size 1000x250 with 4 Axes>"
      ]
     },
     "metadata": {},
     "output_type": "display_data"
    }
   ],
   "source": [
    "# Create figure: 2 F1 individuals in columns, 2 rows for Strand 1 & 2\n",
    "fig, axs = plt.subplots(2, 2, figsize=(10, 2.5), sharex=True)\n",
    "\n",
    "# Titles for each F1 individual\n",
    "titles = [\"F1 Individual A\", \"F1 Individual B\"]\n",
    "\n",
    "# F1 strand data grouped\n",
    "f1_strand_pairs = [\n",
    "    (f1_a[0], f1_a[1]),\n",
    "    (f1_b[0], f1_b[1])\n",
    "]\n",
    "\n",
    "# Plot each F1 individual\n",
    "for col, (strand1, strand2) in enumerate(f1_strand_pairs):\n",
    "    for row, strand in enumerate([strand1, strand2]):\n",
    "        for i, allele in enumerate(strand):\n",
    "            axs[row][col].add_patch(mpatches.Rectangle((i, 0), 1, 1, color=color_map[allele]))\n",
    "        axs[row][col].set_xlim(0, chromosome_length)\n",
    "        axs[row][col].set_ylim(0, 1)\n",
    "        axs[row][col].axis('off')\n",
    "    axs[0][col].set_title(titles[col], fontsize=10)\n",
    "\n",
    "# Add strand labels to left side\n",
    "axs[0][0].text(-2, 0.5, \"Strand 1\", va='center', ha='right', fontsize=10)\n",
    "axs[1][0].text(-2, 0.5, \"Strand 2\", va='center', ha='right', fontsize=10)\n",
    "\n",
    "# Add legend\n",
    "axs[0][1].legend(handles=legend_patches, loc='center left', bbox_to_anchor=(1, 0.5), frameon=False)\n",
    "\n",
    "plt.tight_layout()\n",
    "plt.show()"
   ]
  },
  {
   "cell_type": "markdown",
   "id": "40ebae29-81ef-4cc3-8064-67c7aed106db",
   "metadata": {},
   "source": [
    "### F2 generation"
   ]
  },
  {
   "cell_type": "code",
   "execution_count": 15,
   "id": "4563b0b6-843a-4504-865c-d8fda42fbd3b",
   "metadata": {},
   "outputs": [],
   "source": [
    "# Simulate F2 offspring\n",
    "# Create an empty list for new F2 strands\n",
    "strand_1 = []\n",
    "strand_2 = []\n",
    "\n",
    "# Randomly choose which F1 parent to start with for creating the F2\n",
    "strand_1_source = np.random.choice([0, 1])  # 0 = parent A, 1 = parent B\n",
    "strand_2_source = np.random.choice([0, 1])\n",
    "\n",
    "# Loop through each position (locus) in the chromosome \n",
    "for i in range(chromosome_length):\n",
    "\n",
    "    #For strand 1, randomly select if recombination happens at this position based on the recomb_prob.\n",
    "    #If yes, switch the source parent for this strand. \n",
    "    if i > 0 and np.random.rand() < recomb_probs[i]:\n",
    "        strand_1_source = 1 - strand_1_source # Work between parent 0 and 1 \n",
    "\n",
    "    # For strand 2, do the same as above and change where required. \n",
    "    if i > 0 and np.random.rand() < recomb_probs[i]:\n",
    "        strand_2_source = 1 - strand_2_source\n",
    "\n",
    "    # Append allele from designated parent and position. \n",
    "    # Dependent on the source parent. \n",
    "    strand_1.append(parent_a[strand_1_source][i] if strand_1_source == 0 else parent_b[strand_1_source][i])\n",
    "    strand_2.append(parent_a[strand_2_source][i] if strand_2_source == 0 else parent_b[strand_2_source][i])"
   ]
  },
  {
   "cell_type": "code",
   "execution_count": 16,
   "id": "a65232bd-1d70-49c1-8b86-24194bb9017c",
   "metadata": {},
   "outputs": [
    {
     "name": "stdout",
     "output_type": "stream",
     "text": [
      "F2 offspring strands generated:\n",
      "Strand 1: ['M', 'M', 'M', 'M', 'M', 'M', 'Y', 'Y', 'Y', 'Y', 'Y', 'Y', 'Y', 'Y', 'Y']\n",
      "Strand 2: ['M', 'M', 'M', 'M', 'M', 'M', 'M', 'M', 'Y', 'M', 'Y', 'Y', 'Y', 'Y', 'Y']\n"
     ]
    }
   ],
   "source": [
    "# Checkpoint: print strand data\n",
    "\n",
    "print(\"F2 offspring strands generated:\")\n",
    "print(\"Strand 1:\", strand_1)\n",
    "print(\"Strand 2:\", strand_2)"
   ]
  },
  {
   "cell_type": "code",
   "execution_count": 17,
   "id": "796885ec-15df-46b5-8946-2d97feea0be3",
   "metadata": {},
   "outputs": [],
   "source": [
    "# Compute genotype numeric representation\n",
    "# Create lists to store numeric and label data\n",
    "f2_chromosome = []          # Numerical representation (2, 1, 0)\n",
    "f2_genotype_labels = []     # Actual strand combinations ('MM', 'MY', 'YM', 'YY')\n",
    "\n",
    "# Loop through alleles at each position from both strands at the same time.\n",
    "for a, b in zip(strand_1, strand_2):\n",
    "\n",
    "    # Combine into pairs and assign numeric genotype\n",
    "    pair = sorted([a, b])\n",
    "    \n",
    "    if pair == ['M', 'M']:\n",
    "        f2_chromosome.append(2)\n",
    "        f2_genotype_labels.append('MM')\n",
    "    elif pair == ['Y', 'Y']:\n",
    "        f2_chromosome.append(0)\n",
    "        f2_genotype_labels.append('YY')\n",
    "    else:\n",
    "        f2_chromosome.append(1)\n",
    "        f2_genotype_labels.append(a + b)  #Actual orientation: 'MY' or 'YM'"
   ]
  },
  {
   "cell_type": "code",
   "execution_count": 18,
   "id": "213534a2-6529-41cb-a162-ba686d239e60",
   "metadata": {},
   "outputs": [
    {
     "name": "stdout",
     "output_type": "stream",
     "text": [
      "F2 genotype numeric values: [2, 2, 2, 2, 2, 2, 1, 1, 0, 1, 0, 0, 0, 0, 0]\n",
      "F2 genotype strand labels : ['MM', 'MM', 'MM', 'MM', 'MM', 'MM', 'YM', 'YM', 'YY', 'YM', 'YY', 'YY', 'YY', 'YY', 'YY']\n"
     ]
    }
   ],
   "source": [
    "# Checkpoint: print genotype array\n",
    "\n",
    "print(\"F2 genotype numeric values:\", f2_chromosome)\n",
    "print(\"F2 genotype strand labels :\", f2_genotype_labels)"
   ]
  },
  {
   "cell_type": "code",
   "execution_count": 19,
   "id": "54ab4383-9ec4-4ccd-8869-4c489bc85d6c",
   "metadata": {},
   "outputs": [
    {
     "data": {
      "image/png": "[encoded data removed]",
      "text/plain": [
       "<Figure size 1200x400 with 4 Axes>"
      ]
     },
     "metadata": {},
     "output_type": "display_data"
    }
   ],
   "source": [
    "# Visualise F2 chromosome\n",
    "# Define colour for M and Y\n",
    "color_map = {'M': 'deeppink', 'Y': 'gold'}\n",
    "# Create a figure with 4 vertically stacked subplots \n",
    "fig, axs = plt.subplots(4, 1, figsize=(12, 4), sharex=True)\n",
    "\n",
    "# Set titles for each subplot row\n",
    "axs[0].set_title(\"Allele Strand 1\")\n",
    "axs[1].set_title(\"Allele Strand 2\")\n",
    "axs[2].set_title(\"Genotype Numeric (2=MM, 1=MY/YM, 0=YY)\")\n",
    "axs[3].set_title(\"Genotype Labels (e.g., MY, YM)\")\n",
    "\n",
    "# Plot all allele colours, geotype values  and labels \n",
    "for i, allele in enumerate(strand_1):\n",
    "    axs[0].add_patch(mpatches.Rectangle((i, 0), 1, 1, color=color_map[allele]))\n",
    "for i, allele in enumerate(strand_2):\n",
    "    axs[1].add_patch(mpatches.Rectangle((i, 0), 1, 1, color=color_map[allele]))\n",
    "for i, val in enumerate(f2_chromosome):\n",
    "    axs[2].text(i + 0.4, 0.5, str(val), fontsize=12)\n",
    "    axs[2].add_patch(mpatches.Rectangle((i, 0), 1, 1, edgecolor='black', facecolor='white', fill=False))\n",
    "for i, label in enumerate(f2_genotype_labels):\n",
    "    axs[3].text(i + 0.3, 0.5, label, fontsize=10)\n",
    "    axs[3].add_patch(mpatches.Rectangle((i, 0), 1, 1, edgecolor='grey', facecolor='white', fill=False))\n",
    "\n",
    "# Format each subplot\n",
    "for ax in axs:\n",
    "    ax.set_xlim(0, chromosome_length)\n",
    "    ax.set_ylim(0, 1)\n",
    "    ax.axis('off')\n",
    "\n",
    "# Add legend\n",
    "legend_patches = [\n",
    "    mpatches.Patch(color='deeppink', label='M (Magenta)'),\n",
    "    mpatches.Patch(color='gold', label='Y (Yellow)')\n",
    "]\n",
    "axs[0].legend(handles=legend_patches, loc='center left', bbox_to_anchor=(1, 0.5), frameon=False)\n",
    "\n",
    "# Adjust spacing and display \n",
    "plt.tight_layout()\n",
    "plt.show()"
   ]
  },
  {
   "cell_type": "code",
   "execution_count": 24,
   "id": "8d69ef75-9379-4253-b249-b44dfe52d48d",
   "metadata": {},
   "outputs": [
    {
     "name": "stdout",
     "output_type": "stream",
     "text": [
      "Strand 1: ['M', 'M', 'M', 'M', 'M', 'M', 'Y', 'Y', 'Y', 'Y', 'Y', 'Y', 'Y', 'Y', 'Y']\n",
      "Strand 2: ['M', 'M', 'M', 'M', 'M', 'M', 'M', 'M', 'Y', 'M', 'Y', 'Y', 'Y', 'Y', 'Y']\n",
      "F2 Chromosome Genotype: [2, 2, 2, 2, 2, 2, 1, 1, 0, 1, 0, 0, 0, 0, 0]\n"
     ]
    }
   ],
   "source": [
    "# Checkpoint - for verification purposes \n",
    "\n",
    "print(\"Strand 1:\", strand_1)\n",
    "print(\"Strand 2:\", strand_2)\n",
    "print(\"F2 Chromosome Genotype:\", f2_chromosome)"
   ]
  },
  {
   "cell_type": "code",
   "execution_count": 25,
   "id": "6a8f4389-c6fe-4840-8031-766bb79bf16b",
   "metadata": {},
   "outputs": [],
   "source": [
    "# TO DO \n",
    "# Can we visualise some sort of family tree so it is easier to understand the inheritance?"
   ]
  }
 ],
 "metadata": {
  "kernelspec": {
   "display_name": "Python 3 (ipykernel)",
   "language": "python",
   "name": "python3"
  },
  "language_info": {
   "codemirror_mode": {
    "name": "ipython",
    "version": 3
   },
   "file_extension": ".py",
   "mimetype": "text/x-python",
   "name": "python",
   "nbconvert_exporter": "python",
   "pygments_lexer": "ipython3",
   "version": "3.12.9"
  }
 },
 "nbformat": 4,
 "nbformat_minor": 5
}

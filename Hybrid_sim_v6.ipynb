{
 "cells": [
  {
   "cell_type": "markdown",
   "id": "8b0e0aec-3a63-4223-b233-7bbbf27316e8",
   "metadata": {},
   "source": [
    "## Hybrid Sim V6"
   ]
  },
  {
   "cell_type": "markdown",
   "id": "5014813a-5492-4dab-8557-b69069364440",
   "metadata": {
    "jp-MarkdownHeadingCollapsed": true
   },
   "source": [
    "### Prerequisites"
   ]
  },
  {
   "cell_type": "code",
   "execution_count": 106,
   "id": "dba354c9-a7ab-451d-bd61-ed85f558c387",
   "metadata": {
    "scrolled": true
   },
   "outputs": [],
   "source": [
    "# Import libraries\n",
    "import numpy as np\n",
    "import matplotlib.pyplot as plt\n",
    "import matplotlib.patches as mpatches\n",
    "from matplotlib.lines import Line2D\n",
    "import random\n",
    "import ternary\n",
    "import pandas as pd"
   ]
  },
  {
   "cell_type": "code",
   "execution_count": 68,
   "id": "ad81234a-decc-41b1-9f36-43f31e63173a",
   "metadata": {
    "scrolled": true
   },
   "outputs": [],
   "source": [
    "# Set a random seed for reproducibility (if not required comment out line)\n",
    "\n",
    "np.random.seed(32)\n",
    "random.seed(32)"
   ]
  },
  {
   "cell_type": "code",
   "execution_count": 69,
   "id": "56aad701-f803-4c1b-80e8-da5aa6c9151f",
   "metadata": {},
   "outputs": [],
   "source": [
    "# Define constants\n",
    "chromosome_length = 100 # Total number of positions (loci) on the chromosome \n",
    "MAGENTA = 'M'\n",
    "YELLOW = 'Y'"
   ]
  },
  {
   "cell_type": "markdown",
   "id": "111faf63-cc2c-4537-9f45-f1b06b7f95d2",
   "metadata": {
    "jp-MarkdownHeadingCollapsed": true
   },
   "source": [
    "### Recombination setup "
   ]
  },
  {
   "cell_type": "code",
   "execution_count": 70,
   "id": "f4b190f6-d772-4ab0-a9ba-de523feb6690",
   "metadata": {
    "scrolled": true
   },
   "outputs": [],
   "source": [
    "# Two recomb models, either uniform positions or varied at all positions.  \n",
    "use_uniform_recomb = False  # Change to True to use constant recombination prob.\n",
    "\n",
    "if use_uniform_recomb:\n",
    "    recomb_probs = [0.1] * chromosome_length  # Same recombination probability across all positions\n",
    "else:\n",
    "    # U-shaped recombination: high at ends, low in middle\n",
    "    positions = np.linspace(0, 1, chromosome_length)\n",
    "    recomb_probs = [0.01 + 0.2 * (1 - np.exp(-((p - 0.5) ** 2) / 0.02)) for p in positions]"
   ]
  },
  {
   "cell_type": "code",
   "execution_count": 71,
   "id": "51151cc2-2b1c-470e-a8c0-f5eb0ec92ec4",
   "metadata": {},
   "outputs": [],
   "source": [
    "# Define the chance of a recombination event happening (0, 1, or 2 crossover events)\n",
    "recomb_event_probs = [0.1, 0.85, 0.05]  # 10% no crossover, 85% one crossover, 5% two crossovers"
   ]
  },
  {
   "cell_type": "markdown",
   "id": "950c3582-2a92-4afc-aa92-c7f2ee99afab",
   "metadata": {
    "jp-MarkdownHeadingCollapsed": true
   },
   "source": [
    "### Parent generation"
   ]
  },
  {
   "cell_type": "code",
   "execution_count": 72,
   "id": "6ca3379f-6389-49f5-997d-10ff73c23e79",
   "metadata": {},
   "outputs": [],
   "source": [
    "# Create MM and YY parent populations \n",
    "num_magenta = 100\n",
    "num_yellow = 100\n",
    "\n",
    "magenta_parents = [\n",
    "    [[MAGENTA] * chromosome_length, [MAGENTA] * chromosome_length]\n",
    "    for _ in range(num_magenta)\n",
    "]\n",
    "\n",
    "yellow_parents = [\n",
    "    [[YELLOW] * chromosome_length, [YELLOW] * chromosome_length]\n",
    "    for _ in range(num_yellow)\n",
    "]"
   ]
  },
  {
   "cell_type": "code",
   "execution_count": 73,
   "id": "047466ad-defa-4f45-a597-57a52307a15d",
   "metadata": {
    "scrolled": true
   },
   "outputs": [
    {
     "name": "stdout",
     "output_type": "stream",
     "text": [
      "[['M', 'M', 'M', 'M', 'M', 'M', 'M', 'M', 'M', 'M', 'M', 'M', 'M', 'M', 'M', 'M', 'M', 'M', 'M', 'M', 'M', 'M', 'M', 'M', 'M', 'M', 'M', 'M', 'M', 'M', 'M', 'M', 'M', 'M', 'M', 'M', 'M', 'M', 'M', 'M', 'M', 'M', 'M', 'M', 'M', 'M', 'M', 'M', 'M', 'M', 'M', 'M', 'M', 'M', 'M', 'M', 'M', 'M', 'M', 'M', 'M', 'M', 'M', 'M', 'M', 'M', 'M', 'M', 'M', 'M', 'M', 'M', 'M', 'M', 'M', 'M', 'M', 'M', 'M', 'M', 'M', 'M', 'M', 'M', 'M', 'M', 'M', 'M', 'M', 'M', 'M', 'M', 'M', 'M', 'M', 'M', 'M', 'M', 'M', 'M'], ['M', 'M', 'M', 'M', 'M', 'M', 'M', 'M', 'M', 'M', 'M', 'M', 'M', 'M', 'M', 'M', 'M', 'M', 'M', 'M', 'M', 'M', 'M', 'M', 'M', 'M', 'M', 'M', 'M', 'M', 'M', 'M', 'M', 'M', 'M', 'M', 'M', 'M', 'M', 'M', 'M', 'M', 'M', 'M', 'M', 'M', 'M', 'M', 'M', 'M', 'M', 'M', 'M', 'M', 'M', 'M', 'M', 'M', 'M', 'M', 'M', 'M', 'M', 'M', 'M', 'M', 'M', 'M', 'M', 'M', 'M', 'M', 'M', 'M', 'M', 'M', 'M', 'M', 'M', 'M', 'M', 'M', 'M', 'M', 'M', 'M', 'M', 'M', 'M', 'M', 'M', 'M', 'M', 'M', 'M', 'M', 'M', 'M', 'M', 'M']]\n",
      "[['Y', 'Y', 'Y', 'Y', 'Y', 'Y', 'Y', 'Y', 'Y', 'Y', 'Y', 'Y', 'Y', 'Y', 'Y', 'Y', 'Y', 'Y', 'Y', 'Y', 'Y', 'Y', 'Y', 'Y', 'Y', 'Y', 'Y', 'Y', 'Y', 'Y', 'Y', 'Y', 'Y', 'Y', 'Y', 'Y', 'Y', 'Y', 'Y', 'Y', 'Y', 'Y', 'Y', 'Y', 'Y', 'Y', 'Y', 'Y', 'Y', 'Y', 'Y', 'Y', 'Y', 'Y', 'Y', 'Y', 'Y', 'Y', 'Y', 'Y', 'Y', 'Y', 'Y', 'Y', 'Y', 'Y', 'Y', 'Y', 'Y', 'Y', 'Y', 'Y', 'Y', 'Y', 'Y', 'Y', 'Y', 'Y', 'Y', 'Y', 'Y', 'Y', 'Y', 'Y', 'Y', 'Y', 'Y', 'Y', 'Y', 'Y', 'Y', 'Y', 'Y', 'Y', 'Y', 'Y', 'Y', 'Y', 'Y', 'Y'], ['Y', 'Y', 'Y', 'Y', 'Y', 'Y', 'Y', 'Y', 'Y', 'Y', 'Y', 'Y', 'Y', 'Y', 'Y', 'Y', 'Y', 'Y', 'Y', 'Y', 'Y', 'Y', 'Y', 'Y', 'Y', 'Y', 'Y', 'Y', 'Y', 'Y', 'Y', 'Y', 'Y', 'Y', 'Y', 'Y', 'Y', 'Y', 'Y', 'Y', 'Y', 'Y', 'Y', 'Y', 'Y', 'Y', 'Y', 'Y', 'Y', 'Y', 'Y', 'Y', 'Y', 'Y', 'Y', 'Y', 'Y', 'Y', 'Y', 'Y', 'Y', 'Y', 'Y', 'Y', 'Y', 'Y', 'Y', 'Y', 'Y', 'Y', 'Y', 'Y', 'Y', 'Y', 'Y', 'Y', 'Y', 'Y', 'Y', 'Y', 'Y', 'Y', 'Y', 'Y', 'Y', 'Y', 'Y', 'Y', 'Y', 'Y', 'Y', 'Y', 'Y', 'Y', 'Y', 'Y', 'Y', 'Y', 'Y', 'Y']]\n"
     ]
    }
   ],
   "source": [
    "#Check first 5 parents \n",
    "print(magenta_parents[5])\n",
    "print(yellow_parents[5])"
   ]
  },
  {
   "cell_type": "markdown",
   "id": "aefd6d05-3984-42b5-83ea-1125fad255b9",
   "metadata": {
    "jp-MarkdownHeadingCollapsed": true
   },
   "source": [
    "### F1 generation"
   ]
  },
  {
   "cell_type": "code",
   "execution_count": 74,
   "id": "cc19d1ad-27ec-4772-bd5e-0c23145598ca",
   "metadata": {},
   "outputs": [],
   "source": [
    "# Function to generate F1 pop from MM x YY\n",
    "def generate_f1_population_from_parents(n, magenta_pool, yellow_pool):\n",
    "    f1_population = []\n",
    "    f1_parent_indices = []  # Store the (MM, YY) parent indices for each F1 individual\n",
    "\n",
    "    for _ in range(n):\n",
    "        mm_index = random.randint(0, len(magenta_pool) - 1)\n",
    "        yy_index = random.randint(0, len(yellow_pool) - 1)\n",
    "\n",
    "        mm_parent = magenta_pool[mm_index]\n",
    "        yy_parent = yellow_pool[yy_index]\n",
    "\n",
    "        chr1 = mm_parent[0]  # Take one chr from MM\n",
    "        chr2 = yy_parent[1]  # Take one chr from YY\n",
    "\n",
    "        f1_population.append([chr1.copy(), chr2.copy()])\n",
    "        f1_parent_indices.append((mm_index, yy_index))  # Save parent indices\n",
    "\n",
    "    return f1_population, f1_parent_indices"
   ]
  },
  {
   "cell_type": "code",
   "execution_count": 75,
   "id": "deaa3dde-f387-49ad-be4e-14ca6b334472",
   "metadata": {},
   "outputs": [],
   "source": [
    "# Generate F1 population \n",
    "# This function selects one random MM parent and one random YY parent for each F1 individual to simulate a cross between them.\n",
    "# Each resulting offspring has one chr from MM and one from YY.\n",
    "f1_population, f1_parent_indices = generate_f1_population_from_parents(\n",
    "    n=100, magenta_pool=magenta_parents, yellow_pool=yellow_parents\n",
    ")"
   ]
  },
  {
   "cell_type": "code",
   "execution_count": 76,
   "id": "04388e19-cfbc-4db4-a9f8-d7b941667d86",
   "metadata": {},
   "outputs": [
    {
     "name": "stdout",
     "output_type": "stream",
     "text": [
      "Locus 0: M / Y\n",
      "Locus 1: M / Y\n",
      "Locus 2: M / Y\n",
      "Locus 3: M / Y\n",
      "Locus 4: M / Y\n"
     ]
    }
   ],
   "source": [
    "# Checkpoint \n",
    "# Inspect first F1 individual\n",
    "f1_output_check = f1_population[0]\n",
    "for i in range(5):  # Print first 5 loci\n",
    "    print(f\"Locus {i}: {f1_output_check[0][i]} / {f1_output_check[1][i]}\")"
   ]
  },
  {
   "cell_type": "markdown",
   "id": "40ebae29-81ef-4cc3-8064-67c7aed106db",
   "metadata": {
    "jp-MarkdownHeadingCollapsed": true
   },
   "source": [
    "### F2 generation"
   ]
  },
  {
   "cell_type": "code",
   "execution_count": 77,
   "id": "4563b0b6-843a-4504-865c-d8fda42fbd3b",
   "metadata": {},
   "outputs": [],
   "source": [
    "def form_gamete_from_parent(parent, chromosome_length):\n",
    "    # Decide how many recombination events to simulate\n",
    "    num_recombs = random.choices([0, 1, 2], weights=recomb_event_probs, k=1)[0]\n",
    "\n",
    "    # If 0 recombination → copy one entire strand\n",
    "    if num_recombs == 0:\n",
    "        return parent[random.choice([0, 1])][:]\n",
    "\n",
    "    # Get crossover points, weighted by recombination probabilities\n",
    "    crossover_points = sorted(\n",
    "        random.choices(range(chromosome_length), weights=recomb_probs, k=num_recombs)\n",
    "    )\n",
    "\n",
    "    # Recombine between strands\n",
    "    current_strand = random.choice([0, 1])\n",
    "    gamete = []\n",
    "    crossover_index = 0\n",
    "\n",
    "    for i in range(chromosome_length):\n",
    "        if crossover_index < len(crossover_points) and i == crossover_points[crossover_index]:\n",
    "            current_strand = 1 - current_strand  # switch strand\n",
    "            crossover_index += 1\n",
    "        gamete.append(parent[current_strand][i])\n",
    "\n",
    "    return gamete"
   ]
  },
  {
   "cell_type": "code",
   "execution_count": 78,
   "id": "75965323-3e59-4f6d-a83d-73ed652dd714",
   "metadata": {},
   "outputs": [],
   "source": [
    "def generate_f2_offspring(parent_a, parent_b, chromosome_length):\n",
    "    gamete_1 = form_gamete_from_parent(parent_a, chromosome_length)\n",
    "    gamete_2 = form_gamete_from_parent(parent_b, chromosome_length)\n",
    "    return [gamete_1, gamete_2]"
   ]
  },
  {
   "cell_type": "code",
   "execution_count": 79,
   "id": "ff2d878c-1494-4467-905a-6ed795b9f295",
   "metadata": {},
   "outputs": [],
   "source": [
    "f2_population = []\n",
    "\n",
    "# Randomly shuffle F1 indices and pair them up\n",
    "f1_indices = np.random.permutation(len(f1_offspring))\n",
    "pairs = list(zip(f1_indices[::2], f1_indices[1::2]))\n",
    "\n",
    "for idx_a, idx_b in pairs:\n",
    "    parent_a = f1_offspring[idx_a]\n",
    "    parent_b = f1_offspring[idx_b]\n",
    "    f2_individual = generate_f2_offspring(parent_a, parent_b, chromosome_length)\n",
    "    f2_population.append(f2_individual)"
   ]
  },
  {
   "cell_type": "markdown",
   "id": "78c93345-73c7-43f4-b9c3-26137ccec8da",
   "metadata": {},
   "source": [
    "#### Sanity Checks "
   ]
  },
  {
   "cell_type": "code",
   "execution_count": 80,
   "id": "80a6d628-93fd-4a72-b66a-b95d7864d87d",
   "metadata": {
    "scrolled": true
   },
   "outputs": [
    {
     "name": "stdout",
     "output_type": "stream",
     "text": [
      "Number of F2 individuals: 50\n"
     ]
    }
   ],
   "source": [
    "# Diagnostic check\n",
    "print(f\"Number of F2 individuals: {len(f2_population)}\")"
   ]
  },
  {
   "cell_type": "code",
   "execution_count": 81,
   "id": "c6741d5a-e33e-40f3-8fc6-bb861e75a545",
   "metadata": {
    "scrolled": true
   },
   "outputs": [
    {
     "name": "stdout",
     "output_type": "stream",
     "text": [
      "\n",
      "F2 Individual 1:\n",
      "  Chromosome 1 alleles (first 20): ['M', 'M', 'M', 'M', 'M', 'M', 'M', 'M', 'M', 'M', 'M', 'M', 'M', 'M', 'M', 'M', 'M', 'M', 'M', 'M']\n",
      "  Chromosome 2 alleles (first 20): ['Y', 'Y', 'Y', 'Y', 'Y', 'Y', 'Y', 'Y', 'Y', 'Y', 'Y', 'Y', 'Y', 'Y', 'Y', 'Y', 'Y', 'Y', 'Y', 'Y']\n",
      "  Lengths: chr1 = 100, chr2 = 100\n",
      "\n",
      "F2 Individual 2:\n",
      "  Chromosome 1 alleles (first 20): ['M', 'M', 'M', 'M', 'M', 'Y', 'Y', 'Y', 'Y', 'Y', 'Y', 'Y', 'Y', 'Y', 'Y', 'Y', 'Y', 'Y', 'Y', 'Y']\n",
      "  Chromosome 2 alleles (first 20): ['M', 'M', 'M', 'M', 'M', 'Y', 'Y', 'Y', 'Y', 'Y', 'Y', 'Y', 'Y', 'Y', 'Y', 'Y', 'Y', 'Y', 'Y', 'Y']\n",
      "  Lengths: chr1 = 100, chr2 = 100\n",
      "\n",
      "F2 Individual 3:\n",
      "  Chromosome 1 alleles (first 20): ['Y', 'M', 'M', 'M', 'M', 'M', 'M', 'M', 'M', 'M', 'M', 'M', 'M', 'M', 'M', 'M', 'M', 'M', 'M', 'M']\n",
      "  Chromosome 2 alleles (first 20): ['Y', 'Y', 'Y', 'Y', 'Y', 'Y', 'Y', 'Y', 'Y', 'Y', 'Y', 'Y', 'Y', 'Y', 'Y', 'Y', 'Y', 'Y', 'Y', 'Y']\n",
      "  Lengths: chr1 = 100, chr2 = 100\n"
     ]
    }
   ],
   "source": [
    "# Check the first 3 F2 individuals\n",
    "# Only shows the first 20 positions \n",
    "for i in range(3):\n",
    "    ind = f2_population[i]\n",
    "    print(f\"\\nF2 Individual {i+1}:\")\n",
    "    print(f\"  Chromosome 1 alleles (first 20): {ind[0][:20]}\")\n",
    "    print(f\"  Chromosome 2 alleles (first 20): {ind[1][:20]}\")\n",
    "    print(f\"  Lengths: chr1 = {len(ind[0])}, chr2 = {len(ind[1])}\")"
   ]
  },
  {
   "cell_type": "code",
   "execution_count": 82,
   "id": "b3307a2f-28bd-4e6a-b574-2b3e2b5ca63e",
   "metadata": {
    "scrolled": true
   },
   "outputs": [
    {
     "name": "stdout",
     "output_type": "stream",
     "text": [
      "\n",
      "Genotype counts across all F2 individuals:\n",
      "  MM: 1442\n",
      "  YY: 1233\n",
      "  MY: 2325\n"
     ]
    }
   ],
   "source": [
    "mm_total, yy_total, my_total = 0, 0, 0\n",
    "\n",
    "for ind in f2_population:\n",
    "    for a1, a2 in zip(ind[0], ind[1]):\n",
    "        pair = sorted([a1, a2])\n",
    "        if pair == ['M', 'M']:\n",
    "            mm_total += 1\n",
    "        elif pair == ['Y', 'Y']:\n",
    "            yy_total += 1\n",
    "        else:\n",
    "            my_total += 1\n",
    "\n",
    "print(\"\\nGenotype counts across all F2 individuals:\")\n",
    "print(f\"  MM: {mm_total}\")\n",
    "print(f\"  YY: {yy_total}\")\n",
    "print(f\"  MY: {my_total}\")"
   ]
  },
  {
   "cell_type": "code",
   "execution_count": 83,
   "id": "5c13c531-37c4-4dd7-a5cc-1f3bf2dca69e",
   "metadata": {},
   "outputs": [
    {
     "name": "stdout",
     "output_type": "stream",
     "text": [
      "\n",
      "Checking for completely homozygous F2 individuals...\n"
     ]
    }
   ],
   "source": [
    "print(\"\\nChecking for completely homozygous F2 individuals...\")\n",
    "for i, ind in enumerate(f2_population):\n",
    "    homo_count = sum(1 for a1, a2 in zip(ind[0], ind[1]) if a1 == a2)\n",
    "    if homo_count == chromosome_length:\n",
    "        print(f\"  WARNING: F2 individual {i} is fully homozygous!\")"
   ]
  },
  {
   "cell_type": "code",
   "execution_count": 84,
   "id": "b8177154-7cad-424c-8912-99c44aca6b3a",
   "metadata": {},
   "outputs": [],
   "source": [
    "# Function to check recomb events \n",
    "def check_recombination_in_f2(f2_population):\n",
    "    recomb_count = 0\n",
    "    for idx, (chr1, chr2) in enumerate(f2_population):\n",
    "        chr1_set = set(chr1)\n",
    "        chr2_set = set(chr2)\n",
    "\n",
    "        chr1_recombined = MAGENTA in chr1_set and YELLOW in chr1_set\n",
    "        chr2_recombined = MAGENTA in chr2_set and YELLOW in chr2_set\n",
    "\n",
    "        if chr1_recombined or chr2_recombined:\n",
    "            recomb_count += 1\n",
    "\n",
    "    print(f\"{recomb_count} out of {len(f2_population)} F2 individuals have at least one recombined chromosome.\")"
   ]
  },
  {
   "cell_type": "code",
   "execution_count": 85,
   "id": "d125544e-49ea-4947-bcee-462956480ae5",
   "metadata": {},
   "outputs": [
    {
     "name": "stdout",
     "output_type": "stream",
     "text": [
      "50 out of 50 F2 individuals have at least one recombined chromosome.\n"
     ]
    }
   ],
   "source": [
    "check_recombination_in_f2(f2_population)"
   ]
  },
  {
   "cell_type": "markdown",
   "id": "238b1a41-a7b5-43c8-8b6d-d7a26c8b126a",
   "metadata": {
    "jp-MarkdownHeadingCollapsed": true
   },
   "source": [
    "### Convert to genotype numerics and labels "
   ]
  },
  {
   "cell_type": "code",
   "execution_count": 108,
   "id": "796885ec-15df-46b5-8946-2d97feea0be3",
   "metadata": {},
   "outputs": [],
   "source": [
    "# Compute genotype numeric representation\n",
    "# Lists to store data for the entire F2 population\n",
    "f2_genotype_numeric_all = []    # List of lists (each individual's numeric genotypes)\n",
    "f2_genotype_labels_all = []     # List of lists (each individual's genotype labels)\n",
    "\n",
    "# Loop over each individual in the F2 population\n",
    "for chr_1, chr_2 in f2_population:\n",
    "    \n",
    "    f2_genotype_numeric = []   # Genotype numeric for this individual\n",
    "    f2_genotype_labels = []    # Genotype label for this individual\n",
    "\n",
    "    # Loop through alleles at each position from both chromosomes\n",
    "    for a, b in zip(chr_1, chr_2):\n",
    "        pair = sorted([a, b])  # Sort to standardise MM, MY, etc.\n",
    "        \n",
    "        if pair == ['M', 'M']:\n",
    "            f2_genotype_numeric.append(2)\n",
    "            f2_genotype_labels.append('MM')\n",
    "        elif pair == ['Y', 'Y']:\n",
    "            f2_genotype_numeric.append(0)\n",
    "            f2_genotype_labels.append('YY')\n",
    "        else:\n",
    "            f2_genotype_numeric.append(1)\n",
    "            f2_genotype_labels.append(a + b)  # Keep orientation ('MY' or 'YM')\n",
    "\n",
    "    # Append this individual's data to the population-level lists\n",
    "    f2_genotype_numeric_all.append(f2_genotype_numeric)\n",
    "    f2_genotype_labels_all.append(f2_genotype_labels)"
   ]
  },
  {
   "cell_type": "code",
   "execution_count": 87,
   "id": "213534a2-6529-41cb-a162-ba686d239e60",
   "metadata": {
    "scrolled": true
   },
   "outputs": [
    {
     "name": "stdout",
     "output_type": "stream",
     "text": [
      "Ind 0 genotypes (numeric): [1, 1, 1, 1, 1, 1, 1, 1, 1, 1]\n",
      "Ind 0 genotypes (labels):  ['MY', 'MY', 'MY', 'MY', 'MY', 'MY', 'MY', 'MY', 'MY', 'MY']\n",
      "Ind 1 genotypes (numeric): [2, 2, 2, 2, 2, 0, 0, 0, 0, 0]\n",
      "Ind 1 genotypes (labels):  ['MM', 'MM', 'MM', 'MM', 'MM', 'YY', 'YY', 'YY', 'YY', 'YY']\n",
      "Ind 2 genotypes (numeric): [0, 1, 1, 1, 1, 1, 1, 1, 1, 1]\n",
      "Ind 2 genotypes (labels):  ['YY', 'MY', 'MY', 'MY', 'MY', 'MY', 'MY', 'MY', 'MY', 'MY']\n"
     ]
    }
   ],
   "source": [
    "# Check point \n",
    "# Only shows the first 10 locus \n",
    "for i in range(3):  # Show 3 example individuals\n",
    "    print(f\"Ind {i} genotypes (numeric): {f2_genotype_numeric_all[i][:10]}\")\n",
    "    print(f\"Ind {i} genotypes (labels):  {f2_genotype_labels_all[i][:10]}\")"
   ]
  },
  {
   "cell_type": "markdown",
   "id": "bd733984-b0ae-4a4b-b2fa-7fca00b73b00",
   "metadata": {
    "jp-MarkdownHeadingCollapsed": true
   },
   "source": [
    "### Hybrid Index and Het Calculation for Parent Gen and F1 "
   ]
  },
  {
   "cell_type": "code",
   "execution_count": 120,
   "id": "e8e592e3-d9e7-490d-aa23-6bfece369b59",
   "metadata": {
    "scrolled": true
   },
   "outputs": [],
   "source": [
    "# Pick one MM parent at random from the magenta parent population\n",
    "parent_mm_index = np.random.choice(len(magenta_parents), 1)[0]\n",
    "parent_mm = magenta_parents[parent_mm_index]\n",
    "\n",
    "# Pick one YY parent at random from the yellow parent population\n",
    "parent_yy_index = np.random.choice(len(yellow_parents), 1)[0]\n",
    "parent_yy = yellow_parents[parent_yy_index]"
   ]
  },
  {
   "cell_type": "code",
   "execution_count": 121,
   "id": "e54e468f-e579-46fd-b99b-b80d2435b74a",
   "metadata": {},
   "outputs": [
    {
     "name": "stdout",
     "output_type": "stream",
     "text": [
      "Selected Magenta Parent (index 59):\n",
      "[['M', 'M', 'M', 'M', 'M', 'M', 'M', 'M', 'M', 'M', 'M', 'M', 'M', 'M', 'M', 'M', 'M', 'M', 'M', 'M', 'M', 'M', 'M', 'M', 'M', 'M', 'M', 'M', 'M', 'M', 'M', 'M', 'M', 'M', 'M', 'M', 'M', 'M', 'M', 'M', 'M', 'M', 'M', 'M', 'M', 'M', 'M', 'M', 'M', 'M', 'M', 'M', 'M', 'M', 'M', 'M', 'M', 'M', 'M', 'M', 'M', 'M', 'M', 'M', 'M', 'M', 'M', 'M', 'M', 'M', 'M', 'M', 'M', 'M', 'M', 'M', 'M', 'M', 'M', 'M', 'M', 'M', 'M', 'M', 'M', 'M', 'M', 'M', 'M', 'M', 'M', 'M', 'M', 'M', 'M', 'M', 'M', 'M', 'M', 'M'], ['M', 'M', 'M', 'M', 'M', 'M', 'M', 'M', 'M', 'M', 'M', 'M', 'M', 'M', 'M', 'M', 'M', 'M', 'M', 'M', 'M', 'M', 'M', 'M', 'M', 'M', 'M', 'M', 'M', 'M', 'M', 'M', 'M', 'M', 'M', 'M', 'M', 'M', 'M', 'M', 'M', 'M', 'M', 'M', 'M', 'M', 'M', 'M', 'M', 'M', 'M', 'M', 'M', 'M', 'M', 'M', 'M', 'M', 'M', 'M', 'M', 'M', 'M', 'M', 'M', 'M', 'M', 'M', 'M', 'M', 'M', 'M', 'M', 'M', 'M', 'M', 'M', 'M', 'M', 'M', 'M', 'M', 'M', 'M', 'M', 'M', 'M', 'M', 'M', 'M', 'M', 'M', 'M', 'M', 'M', 'M', 'M', 'M', 'M', 'M']]\n",
      "\n",
      "Selected Yellow Parent (index 60):\n",
      "[['Y', 'Y', 'Y', 'Y', 'Y', 'Y', 'Y', 'Y', 'Y', 'Y', 'Y', 'Y', 'Y', 'Y', 'Y', 'Y', 'Y', 'Y', 'Y', 'Y', 'Y', 'Y', 'Y', 'Y', 'Y', 'Y', 'Y', 'Y', 'Y', 'Y', 'Y', 'Y', 'Y', 'Y', 'Y', 'Y', 'Y', 'Y', 'Y', 'Y', 'Y', 'Y', 'Y', 'Y', 'Y', 'Y', 'Y', 'Y', 'Y', 'Y', 'Y', 'Y', 'Y', 'Y', 'Y', 'Y', 'Y', 'Y', 'Y', 'Y', 'Y', 'Y', 'Y', 'Y', 'Y', 'Y', 'Y', 'Y', 'Y', 'Y', 'Y', 'Y', 'Y', 'Y', 'Y', 'Y', 'Y', 'Y', 'Y', 'Y', 'Y', 'Y', 'Y', 'Y', 'Y', 'Y', 'Y', 'Y', 'Y', 'Y', 'Y', 'Y', 'Y', 'Y', 'Y', 'Y', 'Y', 'Y', 'Y', 'Y'], ['Y', 'Y', 'Y', 'Y', 'Y', 'Y', 'Y', 'Y', 'Y', 'Y', 'Y', 'Y', 'Y', 'Y', 'Y', 'Y', 'Y', 'Y', 'Y', 'Y', 'Y', 'Y', 'Y', 'Y', 'Y', 'Y', 'Y', 'Y', 'Y', 'Y', 'Y', 'Y', 'Y', 'Y', 'Y', 'Y', 'Y', 'Y', 'Y', 'Y', 'Y', 'Y', 'Y', 'Y', 'Y', 'Y', 'Y', 'Y', 'Y', 'Y', 'Y', 'Y', 'Y', 'Y', 'Y', 'Y', 'Y', 'Y', 'Y', 'Y', 'Y', 'Y', 'Y', 'Y', 'Y', 'Y', 'Y', 'Y', 'Y', 'Y', 'Y', 'Y', 'Y', 'Y', 'Y', 'Y', 'Y', 'Y', 'Y', 'Y', 'Y', 'Y', 'Y', 'Y', 'Y', 'Y', 'Y', 'Y', 'Y', 'Y', 'Y', 'Y', 'Y', 'Y', 'Y', 'Y', 'Y', 'Y', 'Y', 'Y']]\n"
     ]
    }
   ],
   "source": [
    "# Display the selected parents\n",
    "print(\"Selected Magenta Parent (index {}):\".format(parent_mm_index))\n",
    "print(parent_mm)\n",
    "print(\"\\nSelected Yellow Parent (index {}):\".format(parent_yy_index))\n",
    "print(parent_yy)"
   ]
  },
  {
   "cell_type": "code",
   "execution_count": 122,
   "id": "9dc572de-46b5-4a33-a403-cd261022e555",
   "metadata": {},
   "outputs": [
    {
     "name": "stdout",
     "output_type": "stream",
     "text": [
      "Selected F1 Individual (index 78):\n",
      "[['M', 'M', 'M', 'M', 'M', 'M', 'M', 'M', 'M', 'M', 'M', 'M', 'M', 'M', 'M', 'M', 'M', 'M', 'M', 'M', 'M', 'M', 'M', 'M', 'M', 'M', 'M', 'M', 'M', 'M', 'M', 'M', 'M', 'M', 'M', 'M', 'M', 'M', 'M', 'M', 'M', 'M', 'M', 'M', 'M', 'M', 'M', 'M', 'M', 'M', 'M', 'M', 'M', 'M', 'M', 'M', 'M', 'M', 'M', 'M', 'M', 'M', 'M', 'M', 'M', 'M', 'M', 'M', 'M', 'M', 'M', 'M', 'M', 'M', 'M', 'M', 'M', 'M', 'M', 'M', 'M', 'M', 'M', 'M', 'M', 'M', 'M', 'M', 'M', 'M', 'M', 'M', 'M', 'M', 'M', 'M', 'M', 'M', 'M', 'M'], ['Y', 'Y', 'Y', 'Y', 'Y', 'Y', 'Y', 'Y', 'Y', 'Y', 'Y', 'Y', 'Y', 'Y', 'Y', 'Y', 'Y', 'Y', 'Y', 'Y', 'Y', 'Y', 'Y', 'Y', 'Y', 'Y', 'Y', 'Y', 'Y', 'Y', 'Y', 'Y', 'Y', 'Y', 'Y', 'Y', 'Y', 'Y', 'Y', 'Y', 'Y', 'Y', 'Y', 'Y', 'Y', 'Y', 'Y', 'Y', 'Y', 'Y', 'Y', 'Y', 'Y', 'Y', 'Y', 'Y', 'Y', 'Y', 'Y', 'Y', 'Y', 'Y', 'Y', 'Y', 'Y', 'Y', 'Y', 'Y', 'Y', 'Y', 'Y', 'Y', 'Y', 'Y', 'Y', 'Y', 'Y', 'Y', 'Y', 'Y', 'Y', 'Y', 'Y', 'Y', 'Y', 'Y', 'Y', 'Y', 'Y', 'Y', 'Y', 'Y', 'Y', 'Y', 'Y', 'Y', 'Y', 'Y', 'Y', 'Y']]\n"
     ]
    }
   ],
   "source": [
    "# Pick one individual at random from the F1 population\n",
    "f1_index = np.random.choice(len(f1_population), 1)[0]\n",
    "f1_individual = f1_population[f1_index]\n",
    "\n",
    "# Display the selected F1 individual\n",
    "print(\"Selected F1 Individual (index {}):\".format(f1_index))\n",
    "print(f1_individual)"
   ]
  },
  {
   "cell_type": "code",
   "execution_count": 123,
   "id": "39446364-b8d9-4f51-9718-588bfa9ceeda",
   "metadata": {},
   "outputs": [],
   "source": [
    "# 'M' = magenta, 'Y' = yellow\n",
    "# MM = 2, MY/YM = 1, YY = 0\n",
    "\n",
    "# Function to convert two chromosomes into numeric genotypes\n",
    "def get_numeric_genotype(chr1, chr2):\n",
    "    numeric = []\n",
    "    for a, b in zip(chr1, chr2):\n",
    "        pair = sorted([a, b])  # Account for 'MY' and 'YM' \n",
    "        if pair == ['M', 'M']:\n",
    "            numeric.append(2)\n",
    "        elif pair == ['M', 'Y']:  # This captures both 'MY' and 'YM'\n",
    "            numeric.append(1)\n",
    "        elif pair == ['Y', 'Y']:\n",
    "            numeric.append(0)\n",
    "        else:\n",
    "            # Handle any unexpected allele combinations\n",
    "            print(f\"Warning: Unexpected allele pair: {a},{b}\")\n",
    "            numeric.append(None)\n",
    "    return numeric"
   ]
  },
  {
   "cell_type": "code",
   "execution_count": 124,
   "id": "4123a422-11e1-46ed-bab4-f0cdeff0d876",
   "metadata": {},
   "outputs": [],
   "source": [
    "# Function to calculate HI and HET from numeric genotype\n",
    "def calculate_hi_het(genotype_numeric):\n",
    "    # Filter out any None values from the genotype list\n",
    "    valid_genotypes = [g for g in genotype_numeric if g is not None]\n",
    "    \n",
    "    num_loci = len(valid_genotypes)\n",
    "    if num_loci == 0:\n",
    "        return 0, 0  # Avoid division by zero\n",
    "    \n",
    "    total_alleles = 2 * num_loci\n",
    "    num_mm = valid_genotypes.count(2)\n",
    "    num_yy = valid_genotypes.count(0)\n",
    "    num_het = valid_genotypes.count(1)\n",
    "    \n",
    "    num_m_alleles = (2 * num_mm) + num_het\n",
    "    hi = num_m_alleles / total_alleles\n",
    "    het = num_het / num_loci\n",
    "    \n",
    "    return hi, het"
   ]
  },
  {
   "cell_type": "code",
   "execution_count": 125,
   "id": "3bdb42f3-64ce-4e1b-a05c-47558bc17984",
   "metadata": {},
   "outputs": [],
   "source": [
    "# Calculate HI and HET for parents and F1 individual\n",
    "# For the Magenta Parent\n",
    "parent_mm_chr1, parent_mm_chr2 = parent_mm  # Assuming parent_mm contains two chromosomes\n",
    "parent_mm_numeric = get_numeric_genotype(parent_mm_chr1, parent_mm_chr2)\n",
    "parent_mm_hi, parent_mm_het = calculate_hi_het(parent_mm_numeric)\n",
    "\n",
    "# For the Yellow Parent\n",
    "parent_yy_chr1, parent_yy_chr2 = parent_yy  # Assuming parent_yy contains two chromosomes\n",
    "parent_yy_numeric = get_numeric_genotype(parent_yy_chr1, parent_yy_chr2)\n",
    "parent_yy_hi, parent_yy_het = calculate_hi_het(parent_yy_numeric)\n",
    "\n",
    "# For the F1 Individual\n",
    "f1_chr1, f1_chr2 = f1_individual  # Assuming F1_individual contains two chromosomes\n",
    "f1_numeric = get_numeric_genotype(f1_chr1, f1_chr2)\n",
    "f1_hi, f1_het = calculate_hi_het(f1_numeric)"
   ]
  },
  {
   "cell_type": "code",
   "execution_count": null,
   "id": "b0520c95-01e3-442b-9e5b-16955be3481d",
   "metadata": {
    "scrolled": true
   },
   "outputs": [],
   "source": [
    "# Display the results\n",
    "print(\"Magenta Parent:\")\n",
    "print(f\"Hybrid Index: {parent_mm_hi:.3f}\")\n",
    "print(f\"Heterozygosity: {parent_mm_het:.3f}\")\n",
    "\n",
    "print(\"\\nYellow Parent:\")\n",
    "print(f\"Hybrid Index: {parent_yy_hi:.3f}\")\n",
    "print(f\"Heterozygosity: {parent_yy_het:.3f}\")\n",
    "\n",
    "print(\"\\nF1 Individual:\")\n",
    "print(f\"Hybrid Index: {f1_hi:.3f}\")\n",
    "print(f\"Heterozygosity: {f1_het:.3f}\")"
   ]
  },
  {
   "cell_type": "markdown",
   "id": "1ceac424-7314-42ae-9f43-90fe00233586",
   "metadata": {
    "jp-MarkdownHeadingCollapsed": true
   },
   "source": [
    "### Hybrid Index Calculation F2"
   ]
  },
  {
   "cell_type": "code",
   "execution_count": 127,
   "id": "074c0e53-08bb-4958-8057-f2585c9a2c08",
   "metadata": {},
   "outputs": [],
   "source": [
    "# Process the entire F2 population\n",
    "f2_results = []\n",
    "loci_data = []\n",
    "\n",
    "# Iterate through each F2 individual\n",
    "for i, f2_ind in enumerate(f2_population):\n",
    "    # Assuming each individual is stored as a tuple/list with two chromosomes\n",
    "    f2_chr1, f2_chr2 = f2_ind\n",
    "    \n",
    "    # Convert to numeric genotype\n",
    "    f2_numeric = get_numeric_genotype(f2_chr1, f2_chr2)\n",
    "    \n",
    "    # Calculate hybrid index and heterozygosity\n",
    "    hi, het = calculate_hi_het(f2_numeric)\n",
    "    \n",
    "    # Store main results\n",
    "    f2_results.append({\n",
    "        'Individual_ID': f'F2_{i+1}',\n",
    "        'Hybrid_Index': hi,\n",
    "        'Heterozygosity': het\n",
    "    })\n",
    "    \n",
    "    # Store loci data separately\n",
    "    loci_dict = {f'Locus_{j+1}': genotype for j, genotype in enumerate(f2_numeric)}\n",
    "    loci_dict['Individual_ID'] = f'F2_{i+1}'  # Add ID for joining\n",
    "    loci_data.append(loci_dict)"
   ]
  },
  {
   "cell_type": "code",
   "execution_count": null,
   "id": "43c60cea-18d4-41a2-a88b-b64dcb7813fe",
   "metadata": {
    "scrolled": true
   },
   "outputs": [],
   "source": [
    "# Create main DataFrame\n",
    "f2_df = pd.DataFrame(f2_results)\n",
    "\n",
    "# Create loci DataFrame\n",
    "loci_df = pd.DataFrame(loci_data)\n",
    "\n",
    "# Merge the two DataFrames\n",
    "f2_complete_df = pd.merge(f2_df, loci_df, on='Individual_ID')\n",
    "\n",
    "# Display the first few rows of the results\n",
    "print(f2_complete_df.head())"
   ]
  },
  {
   "cell_type": "code",
   "execution_count": null,
   "id": "3a8f7beb-7058-4b95-8bac-b0b0bbacb78d",
   "metadata": {},
   "outputs": [],
   "source": [
    "# Save a defragmented copy if needed\n",
    "#f2_defrag_df = f2_complete_df.copy()"
   ]
  },
  {
   "cell_type": "markdown",
   "id": "c7a9319a-9244-4b84-90ee-406cca07383d",
   "metadata": {
    "jp-MarkdownHeadingCollapsed": true
   },
   "source": [
    "### Parent Gen Visual"
   ]
  },
  {
   "cell_type": "code",
   "execution_count": 134,
   "id": "ddf95260-cf76-498d-90f9-273b20213fc1",
   "metadata": {},
   "outputs": [
    {
     "ename": "NameError",
     "evalue": "name 'mm_parent_a' is not defined",
     "output_type": "error",
     "traceback": [
      "\u001b[31m---------------------------------------------------------------------------\u001b[39m",
      "\u001b[31mNameError\u001b[39m                                 Traceback (most recent call last)",
      "\u001b[36mCell\u001b[39m\u001b[36m \u001b[39m\u001b[32mIn[134]\u001b[39m\u001b[32m, line 10\u001b[39m\n\u001b[32m      6\u001b[39m titles = [\u001b[33m\"\u001b[39m\u001b[33mMM Parent A\u001b[39m\u001b[33m\"\u001b[39m, \u001b[33m\"\u001b[39m\u001b[33mMM Parent B\u001b[39m\u001b[33m\"\u001b[39m, \u001b[33m\"\u001b[39m\u001b[33mYY Parent A\u001b[39m\u001b[33m\"\u001b[39m, \u001b[33m\"\u001b[39m\u001b[33mYY Parent B\u001b[39m\u001b[33m\"\u001b[39m]\n\u001b[32m      8\u001b[39m \u001b[38;5;66;03m# Chromosome pairs per individual (same order as titles)\u001b[39;00m\n\u001b[32m      9\u001b[39m parent_chr_pairs = [\n\u001b[32m---> \u001b[39m\u001b[32m10\u001b[39m     (mm_parent_a[\u001b[32m0\u001b[39m], mm_parent_a[\u001b[32m1\u001b[39m]),\n\u001b[32m     11\u001b[39m     (mm_parent_b[\u001b[32m0\u001b[39m], mm_parent_b[\u001b[32m1\u001b[39m]),\n\u001b[32m     12\u001b[39m     (yy_parent_a[\u001b[32m0\u001b[39m], yy_parent_a[\u001b[32m1\u001b[39m]),\n\u001b[32m     13\u001b[39m     (yy_parent_b[\u001b[32m0\u001b[39m], yy_parent_b[\u001b[32m1\u001b[39m])\n\u001b[32m     14\u001b[39m ]\n\u001b[32m     16\u001b[39m \u001b[38;5;66;03m# Dynamically scale figure width: 0.1 inch per locus per chromosome\u001b[39;00m\n\u001b[32m     17\u001b[39m fig_width = \u001b[38;5;28mmax\u001b[39m(\u001b[32m8\u001b[39m, chromosome_length * \u001b[32m0.1\u001b[39m)  \u001b[38;5;66;03m# e.g., 100 loci → 10\" width per chromosome\u001b[39;00m\n",
      "\u001b[31mNameError\u001b[39m: name 'mm_parent_a' is not defined"
     ]
    }
   ],
   "source": [
    "# Visualise parents\n",
    "# Colour map for alleles\n",
    "color_map = {'M': 'deeppink', 'Y': 'gold'}\n",
    "\n",
    "# Updated order: MM A, MM B, YY A, YY B\n",
    "titles = [\"MM Parent A\", \"MM Parent B\", \"YY Parent A\", \"YY Parent B\"]\n",
    "\n",
    "# Chromosome pairs per individual (same order as titles)\n",
    "parent_chr_pairs = [\n",
    "    (mm_parent_a[0], mm_parent_a[1]),\n",
    "    (mm_parent_b[0], mm_parent_b[1]),\n",
    "    (yy_parent_a[0], yy_parent_a[1]),\n",
    "    (yy_parent_b[0], yy_parent_b[1])\n",
    "]\n",
    "\n",
    "# Dynamically scale figure width: 0.1 inch per locus per chromosome\n",
    "fig_width = max(8, chromosome_length * 0.1)  # e.g., 100 loci → 10\" width per chromosome\n",
    "fig, axs = plt.subplots(1, 8, figsize=(fig_width, 4), sharey=True)\n",
    "\n",
    "# Drawing settings\n",
    "block_width = 0.6\n",
    "block_height = 1\n",
    "block_spacing = 1.2\n",
    "\n",
    "# Loop through each individual and each chromosome\n",
    "for i, (chr1, chr2) in enumerate(parent_chr_pairs):\n",
    "    for j, chr in enumerate([chr1, chr2]):  # chr1 (0), chr2 (1)\n",
    "        ax_index = i * 2 + j  # Convert to flat index (0 to 7)\n",
    "        ax = axs[ax_index]\n",
    "        for k, allele in enumerate(chr):\n",
    "            y_pos = k * block_spacing\n",
    "            ax.add_patch(\n",
    "                mpatches.Rectangle((0.2, y_pos), block_width, block_height, color=color_map[allele])\n",
    "            )\n",
    "        ax.set_xlim(0, 1)\n",
    "        ax.set_ylim(0, len(chr) * block_spacing)\n",
    "        ax.axis('off')\n",
    "\n",
    "# Add individual titles centered above each pair of chromosomes\n",
    "for i, title in enumerate(titles):\n",
    "    mid_ax = axs[i * 2 + 0]\n",
    "    mid_x = mid_ax.get_position().x0 + (axs[i * 2 + 1].get_position().x1 - mid_ax.get_position().x0) / 2\n",
    "    fig.text(mid_x, 0.95, title, ha='center', va='bottom', fontsize=10)\n",
    "\n",
    "# Add chromosome labels below each block\n",
    "for i in range(4):  # For each parent\n",
    "    axs[i * 2 + 0].text(0.5, -0.1, \"chr 1\", ha='center', va='center', fontsize=9, transform=axs[i * 2 + 0].transAxes)\n",
    "    axs[i * 2 + 1].text(0.5, -0.1, \"chr 2\", ha='center', va='center', fontsize=9, transform=axs[i * 2 + 1].transAxes)\n",
    "\n",
    "# Add legend\n",
    "legend_patches = [\n",
    "    mpatches.Patch(color='deeppink', label='M (Magenta)'),\n",
    "    mpatches.Patch(color='gold', label='Y (Yellow)')\n",
    "]\n",
    "axs[-1].legend(handles=legend_patches, loc='center left', bbox_to_anchor=(1.1, 0.5), frameon=False)\n",
    "\n",
    "plt.subplots_adjust(wspace=0.4)  # add spacing between the 8 subplots\n",
    "plt.show()"
   ]
  },
  {
   "cell_type": "markdown",
   "id": "a9d61c10-81c8-4c25-86ab-87ea6e5c8be2",
   "metadata": {
    "jp-MarkdownHeadingCollapsed": true
   },
   "source": [
    "### F1 Visual"
   ]
  },
  {
   "cell_type": "code",
   "execution_count": null,
   "id": "018ada39-fbc2-4792-89bc-cfe45443e1eb",
   "metadata": {},
   "outputs": [],
   "source": [
    "# Visualise F1 individuals\n",
    "fig_height = max(6, chromosome_length * 0.12)  # 0.12\" per locus, minimum 6\"\n",
    "fig, axs = plt.subplots(1, 4, figsize=(7, fig_height), sharey=True)\n",
    "\n",
    "# Titles for each F1 individual\n",
    "titles = [\"F1 Individual A\", \"F1 Individual B\"]\n",
    "\n",
    "# Chromosome data grouped (chr1, chr2 per individual)\n",
    "f1_chr_pairs = [\n",
    "    (f1_a[0], f1_a[1]),\n",
    "    (f1_b[0], f1_b[1])\n",
    "]\n",
    "\n",
    "# Drawing settings\n",
    "block_width = 0.6\n",
    "block_height = 1\n",
    "block_spacing = 1.3\n",
    "\n",
    "# Plot each chromosome in horizontal layout\n",
    "for i, (chr1, chr2) in enumerate(f1_chr_pairs):\n",
    "    for j, chr in enumerate([chr1, chr2]):  # chr1 then chr2\n",
    "        ax_index = i * 2 + j\n",
    "        ax = axs[ax_index]\n",
    "        for k, allele in enumerate(chr):\n",
    "            y_pos = k * block_spacing\n",
    "            ax.add_patch(\n",
    "                mpatches.Rectangle((0.2, y_pos), block_width, block_height, color=color_map[allele])\n",
    "            )\n",
    "        ax.set_xlim(0, 1)\n",
    "        ax.set_ylim(0, len(chr) * block_spacing)\n",
    "        ax.axis('off')\n",
    "\n",
    "# Add individual titles above their chromosome pair\n",
    "for i, title in enumerate(titles):\n",
    "    mid_ax = axs[i * 2]\n",
    "    mid_x = mid_ax.get_position().x0 + (axs[i * 2 + 1].get_position().x1 - mid_ax.get_position().x0) / 2\n",
    "    fig.text(mid_x, 0.95, title, ha='center', va='bottom', fontsize=10)\n",
    "\n",
    "# Add chromosome labels just below blocks\n",
    "for i in range(2):  # For each F1 individual\n",
    "    axs[i * 2 + 0].text(0.5, -0.1, \"chr 1\", ha='center', va='center', fontsize=9, transform=axs[i * 2 + 0].transAxes)\n",
    "    axs[i * 2 + 1].text(0.5, -0.1, \"chr 2\", ha='center', va='center', fontsize=9, transform=axs[i * 2 + 1].transAxes)\n",
    "\n",
    "# Add legend on the right\n",
    "axs[-1].legend(handles=legend_patches, loc='center left', bbox_to_anchor=(1.1, 0.5), frameon=False)\n",
    "\n",
    "plt.show()"
   ]
  },
  {
   "cell_type": "code",
   "execution_count": 317,
   "id": "18a9387b-ab31-4b56-b689-f103c0c8c8f6",
   "metadata": {},
   "outputs": [],
   "source": [
    "# Function to get recombination points across F2 pop\n",
    "def get_recomb_points(chrom_length, num_events, recomb_probs):\n",
    "    \n",
    "    # Only positions 1 to (chrom_length - 1) are valid recombination sites\n",
    "    possible_positions = list(range(1, chrom_length))  # skip 0 (can't recombine before first locus)\n",
    "    \n",
    "    # Normalise probabilities over valid positions\n",
    "    position_probs = np.array(recomb_probs[1:])  # slice from index 1 onward\n",
    "    position_probs = position_probs / position_probs.sum()  # ensure it sums to 1\n",
    "    \n",
    "    # Sample recombination points without replacement, weighted by recomb_probs\n",
    "    return sorted(np.random.choice(possible_positions, size=num_events, replace=False, p=position_probs))"
   ]
  },
  {
   "cell_type": "markdown",
   "id": "b0985255-0c5d-4e7d-9ba6-92eb6485faed",
   "metadata": {
    "jp-MarkdownHeadingCollapsed": true
   },
   "source": [
    "### F2 Visual"
   ]
  },
  {
   "cell_type": "code",
   "execution_count": null,
   "id": "1d5fd3ba-8722-4bbb-be96-539e375bcfb5",
   "metadata": {},
   "outputs": [],
   "source": [
    "# Visualise F2 chromosome vertically\n",
    "# Define colour for M and Y\n",
    "color_map = {'M': 'deeppink', 'Y': 'gold'}\n",
    "\n",
    "# Set block display properties\n",
    "block_width = 0.6\n",
    "block_height = 1\n",
    "block_spacing = 1.08\n",
    "\n",
    "# Create figure with 1 row and 4 vertical strip subplots\n",
    "fig, axs = plt.subplots(1, 4, figsize=(9, 10), sharey=True)\n",
    "\n",
    "# Titles for each vertical strip\n",
    "titles = [\n",
    "    \"chr 1\",\n",
    "    \"chr 2\",\n",
    "    \"Genotype Numeric\\n(2=MM, 1=MY/YM, 0=YY)\",\n",
    "    \"Genotype Labels\"\n",
    "]\n",
    "\n",
    "# Plot allele chr 1\n",
    "for i, allele in enumerate(chr_1):\n",
    "    y_pos = i * block_spacing\n",
    "    axs[0].add_patch(mpatches.Rectangle((0.2, y_pos), block_width, block_height, color=color_map[allele]))\n",
    "\n",
    "# Plot allele chr 2\n",
    "for i, allele in enumerate(chr_2):\n",
    "    y_pos = i * block_spacing\n",
    "    axs[1].add_patch(mpatches.Rectangle((0.2, y_pos), block_width, block_height, color=color_map[allele]))\n",
    "\n",
    "# Plot genotype numeric values\n",
    "# Function to group consecutive identical items\n",
    "def group_runs(data):\n",
    "    runs = []\n",
    "    start = 0\n",
    "    for i in range(1, len(data)):\n",
    "        if data[i] != data[start]:\n",
    "            runs.append((start, i - 1, data[start]))\n",
    "            start = i\n",
    "    runs.append((start, len(data) - 1, data[start]))\n",
    "    return runs\n",
    "\n",
    "# Group numeric values\n",
    "numeric_runs = group_runs(f2_chromosome)\n",
    "for start, end, val in numeric_runs:\n",
    "    y_start = start * block_spacing\n",
    "    height = (end - start + 1) * block_spacing\n",
    "    axs[2].add_patch(mpatches.Rectangle((0.1, y_start), block_width + 0.2, height, edgecolor='black', facecolor='white', fill=False))\n",
    "    axs[2].text(0.5, y_start + height / 2 - 0.3, str(val), fontsize=10, ha='center')\n",
    "\n",
    "# Plot genotype labels\n",
    "# Function to group consecutive identical items\n",
    "def group_runs(data):\n",
    "    runs = []\n",
    "    start = 0\n",
    "    for i in range(1, len(data)):\n",
    "        if data[i] != data[start]:\n",
    "            runs.append((start, i - 1, data[start]))\n",
    "            start = i\n",
    "    runs.append((start, len(data) - 1, data[start]))\n",
    "    return runs\n",
    "\n",
    "# Clean label input (remove extra spaces, standardize)\n",
    "clean_labels = [label.strip().upper() for label in f2_genotype_labels]\n",
    "\n",
    "# Group identical label stretches\n",
    "label_runs = group_runs(clean_labels)\n",
    "\n",
    "# Plot merged genotype label blocks\n",
    "for start, end, label in label_runs:\n",
    "    y_start = start * block_spacing\n",
    "    height = (end - start + 1) * block_spacing\n",
    "    axs[3].add_patch(mpatches.Rectangle((0.1, y_start), block_width + 0.2, height,\n",
    "                                        edgecolor='grey', facecolor='white', fill=False))\n",
    "    axs[3].text(0.5, y_start + height / 2 - 0.3, label, fontsize=10, ha='center')\n",
    "\n",
    "# Formatting\n",
    "max_y = len(chr_1) * block_spacing\n",
    "for ax, title in zip(axs, titles):\n",
    "    ax.set_xlim(0, 1)\n",
    "    ax.set_ylim(0, max_y)\n",
    "    ax.set_title(title, fontsize=10)\n",
    "    ax.axis('off')\n",
    "\n",
    "# Add legend to first column\n",
    "legend_patches = [\n",
    "    mpatches.Patch(color='deeppink', label='M (Magenta)'),\n",
    "    mpatches.Patch(color='gold', label='Y (Yellow)')\n",
    "]\n",
    "axs[0].legend(handles=legend_patches, loc='upper left', bbox_to_anchor=(-1, 1), frameon=False)\n",
    "\n",
    "plt.show()"
   ]
  },
  {
   "cell_type": "code",
   "execution_count": null,
   "id": "41665d7a-fe30-4b79-8c8f-67fb2761be9e",
   "metadata": {},
   "outputs": [],
   "source": [
    "# Checkpoint - for verification purposes \n",
    "\n",
    "print(\"chr 1:\", chr_1)\n",
    "print(\"chr 2:\", chr_2)\n",
    "print(\"F2 Chromosome Genotype:\", f2_chromosome)"
   ]
  },
  {
   "cell_type": "markdown",
   "id": "1bf32d71-e5aa-45ef-9efc-1d63e0e1dfd3",
   "metadata": {
    "jp-MarkdownHeadingCollapsed": true
   },
   "source": [
    "### Triangle Plot"
   ]
  },
  {
   "cell_type": "code",
   "execution_count": 133,
   "id": "8aaf2fc8-53ad-4527-9273-4a9d62406677",
   "metadata": {},
   "outputs": [
    {
     "data": {
      "image/png": "[encoded data removed]",
      "text/plain": [
       "<Figure size 800x600 with 1 Axes>"
      ]
     },
     "metadata": {},
     "output_type": "display_data"
    }
   ],
   "source": [
    "# Create the plot\n",
    "fig, ax = plt.subplots(figsize=(8, 6))\n",
    "\n",
    "# Remove only top and right spines\n",
    "ax.spines['top'].set_visible(False)\n",
    "ax.spines['right'].set_visible(False)\n",
    "ax.spines['left'].set_linewidth(1.2)\n",
    "ax.spines['bottom'].set_linewidth(1.2)\n",
    "\n",
    "# Label axes\n",
    "ax.set_xlabel(\"Hybrid Index (prop M alleles)\", fontsize=12)\n",
    "ax.set_ylabel(\"Heterozygosity (prop heterozygous loci)\", fontsize=12)\n",
    "\n",
    "# Plot all F2 individuals as semi-transparent black dots\n",
    "ax.scatter(\n",
    "    f2_complete_df['Hybrid_Index'],\n",
    "    f2_complete_df['Heterozygosity'],\n",
    "    color='black',\n",
    "    alpha=0.3,\n",
    "    s=20,\n",
    "    label='F2 Population'\n",
    ")\n",
    "\n",
    "# Plot the actual parent and F1 values we calculated earlier\n",
    "ax.scatter(\n",
    "    parent_mm_hi, parent_mm_het,\n",
    "    color='magenta', s=80, edgecolor='black', label='MM'\n",
    ")\n",
    "ax.scatter(\n",
    "    parent_yy_hi, parent_yy_het, \n",
    "    color='yellow', s=80, edgecolor='black', label='YY'\n",
    ")\n",
    "ax.scatter(\n",
    "    f1_hi, f1_het,\n",
    "    color='orange', s=80, edgecolor='black', label='F1'\n",
    ")\n",
    "\n",
    "# Add annotations for key points\n",
    "ax.annotate('MM', (parent_mm_hi, parent_mm_het), \n",
    "            xytext=(5, 5), textcoords='offset points', \n",
    "            fontsize=10, fontweight='bold')\n",
    "ax.annotate('YY', (parent_yy_hi, parent_yy_het), \n",
    "            xytext=(5, 5), textcoords='offset points', \n",
    "            fontsize=10, fontweight='bold')\n",
    "ax.annotate('F1', (f1_hi, f1_het), \n",
    "            xytext=(5, 5), textcoords='offset points', \n",
    "            fontsize=10, fontweight='bold')\n",
    "\n",
    "# Draw the triangle edges\n",
    "triangle_edges = [\n",
    "    [(0.0, 0.0), (0.5, 1.0)],  # YY to F1\n",
    "    [(0.5, 1.0), (1.0, 0.0)],  # F1 to MM\n",
    "    [(0.0, 0.0), (1.0, 0.0)]   # YY to MM (base of triangle)\n",
    "]\n",
    "for (x0, y0), (x1, y1) in triangle_edges:\n",
    "    ax.plot([x0, x1], [y0, y1], linestyle='-', color='gray', linewidth=1.5, alpha=0.7)\n",
    "\n",
    "# Set axis limits\n",
    "ax.set_xlim(-0.05, 1.05)\n",
    "ax.set_ylim(-0.05, 1.05)\n",
    "ax.grid(False)\n",
    "ax.set_aspect('equal', adjustable='box')\n",
    "\n",
    "# Add legend\n",
    "legend_elements = [\n",
    "    Line2D([0], [0], marker='o', color='w', markerfacecolor='magenta', markersize=10, markeredgecolor='black', label='MM'),\n",
    "    Line2D([0], [0], marker='o', color='w', markerfacecolor='yellow', markersize=10, markeredgecolor='black', label='YY'),\n",
    "    Line2D([0], [0], marker='o', color='w', markerfacecolor='orange', markersize=10, markeredgecolor='black', label='F1'),\n",
    "    Line2D([0], [0], marker='o', color='w', markerfacecolor='black', alpha=0.3, markersize=8, label='F2 Population')\n",
    "]\n",
    "\n",
    "ax.legend(\n",
    "    handles=legend_elements,\n",
    "    loc=\"center left\",\n",
    "    bbox_to_anchor=(1.02, 0.5),\n",
    "    frameon=False,\n",
    "    fontsize=9\n",
    ")\n",
    "\n",
    "# Layout adjustment\n",
    "plt.tight_layout()\n",
    "plt.subplots_adjust(right=0.8)\n",
    "\n",
    "plt.show()"
   ]
  }
 ],
 "metadata": {
  "kernelspec": {
   "display_name": "Python 3 (ipykernel)",
   "language": "python",
   "name": "python3"
  },
  "language_info": {
   "codemirror_mode": {
    "name": "ipython",
    "version": 3
   },
   "file_extension": ".py",
   "mimetype": "text/x-python",
   "name": "python",
   "nbconvert_exporter": "python",
   "pygments_lexer": "ipython3",
   "version": "3.12.9"
  }
 },
 "nbformat": 4,
 "nbformat_minor": 5
}

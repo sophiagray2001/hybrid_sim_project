{
 "cells": [
  {
   "cell_type": "markdown",
   "id": "8b0e0aec-3a63-4223-b233-7bbbf27316e8",
   "metadata": {},
   "source": [
    "## Hybrid Sim V6"
   ]
  },
  {
   "cell_type": "code",
   "execution_count": 2,
   "id": "dba354c9-a7ab-451d-bd61-ed85f558c387",
   "metadata": {
    "scrolled": true
   },
   "outputs": [],
   "source": [
    "# Import libraries\n",
    "import numpy as np\n",
    "import matplotlib.pyplot as plt\n",
    "import matplotlib.patches as mpatches\n",
    "import random\n",
    "import ternary"
   ]
  },
  {
   "cell_type": "code",
   "execution_count": 3,
   "id": "ad81234a-decc-41b1-9f36-43f31e63173a",
   "metadata": {
    "scrolled": true
   },
   "outputs": [],
   "source": [
    "# Set a random seed for reproducibility (if not required comment out line)\n",
    "\n",
    "np.random.seed(38)\n",
    "random.seed(38)"
   ]
  },
  {
   "cell_type": "code",
   "execution_count": 4,
   "id": "56aad701-f803-4c1b-80e8-da5aa6c9151f",
   "metadata": {},
   "outputs": [],
   "source": [
    "# Define constants\n",
    "chromosome_length = 15 # Total number of positions (loci) on the chromosome \n",
    "MAGENTA = 'M'\n",
    "YELLOW = 'Y'"
   ]
  },
  {
   "cell_type": "code",
   "execution_count": 5,
   "id": "f23cb462-7015-4f24-9214-3f4dd7957e93",
   "metadata": {},
   "outputs": [],
   "source": [
    "#Option to change recombination probability. \n",
    "\n",
    "use_uniform_recomb = True  # Change to False to use custom recombination prob.\n",
    "\n",
    "if use_uniform_recomb:\n",
    "    recomb_probs = [0.1] * chromosome_length  # Same recombination probability across all positions\n",
    "    # 10% chance\n",
    "else:\n",
    "    recomb_probs = [0.01, 0.05, 0.2, 0.2, 0.05, 0.01, 0.01, 0.05, 0.2, 0.2, 0.05, 0.01, 0.01, 0.05, 0.01]\n"
   ]
  },
  {
   "cell_type": "markdown",
   "id": "950c3582-2a92-4afc-aa92-c7f2ee99afab",
   "metadata": {},
   "source": [
    "### Parent generation"
   ]
  },
  {
   "cell_type": "code",
   "execution_count": 34,
   "id": "6ca3379f-6389-49f5-997d-10ff73c23e79",
   "metadata": {},
   "outputs": [],
   "source": [
    "# Create MM and YY parent populations \n",
    "num_magenta = 10\n",
    "num_yellow = 10\n",
    "\n",
    "magenta_parents = [\n",
    "    [[MAGENTA] * chromosome_length, [MAGENTA] * chromosome_length]\n",
    "    for _ in range(num_magenta)\n",
    "]\n",
    "\n",
    "yellow_parents = [\n",
    "    [[YELLOW] * chromosome_length, [YELLOW] * chromosome_length]\n",
    "    for _ in range(num_yellow)\n",
    "]"
   ]
  },
  {
   "cell_type": "markdown",
   "id": "aefd6d05-3984-42b5-83ea-1125fad255b9",
   "metadata": {},
   "source": [
    "### F1 generation"
   ]
  },
  {
   "cell_type": "code",
   "execution_count": 7,
   "id": "cc19d1ad-27ec-4772-bd5e-0c23145598ca",
   "metadata": {},
   "outputs": [],
   "source": [
    "# Function to generate F1 individual pop from MM x YY\n",
    "def generate_f1_population_from_parents(n, magenta_pool, yellow_pool):\n",
    "    f1_population = []\n",
    "    f1_parent_indices = []  # Store the (MM, YY) parent indices for each F1 individual\n",
    "\n",
    "    for _ in range(n):\n",
    "        mm_index = random.randint(0, len(magenta_pool) - 1)\n",
    "        yy_index = random.randint(0, len(yellow_pool) - 1)\n",
    "\n",
    "        mm_parent = magenta_pool[mm_index]\n",
    "        yy_parent = yellow_pool[yy_index]\n",
    "\n",
    "        strand1 = mm_parent[0]  # Take one strand from MM\n",
    "        strand2 = yy_parent[1]  # Take one strand from YY\n",
    "\n",
    "        f1_population.append([strand1.copy(), strand2.copy()])\n",
    "        f1_parent_indices.append((mm_index, yy_index))  # Save parent indices\n",
    "\n",
    "    return f1_population, f1_parent_indices"
   ]
  },
  {
   "cell_type": "code",
   "execution_count": 8,
   "id": "deaa3dde-f387-49ad-be4e-14ca6b334472",
   "metadata": {},
   "outputs": [],
   "source": [
    "# Generate F1 offspring\n",
    "# This function selects one random MM parent and one random YY parent for each F1 individual to simulate a cross between them.\n",
    "# Each resulting offspring has one strand from MM and one from YY.\n",
    "f1_offspring, f1_parent_indices = generate_f1_population_from_parents(\n",
    "    n=10, magenta_pool=magenta_parents, yellow_pool=yellow_parents\n",
    ")"
   ]
  },
  {
   "cell_type": "code",
   "execution_count": 9,
   "id": "04388e19-cfbc-4db4-a9f8-d7b941667d86",
   "metadata": {
    "scrolled": true
   },
   "outputs": [
    {
     "name": "stdout",
     "output_type": "stream",
     "text": [
      "[[['M', 'M', 'M', 'M', 'M', 'M', 'M', 'M', 'M', 'M', 'M', 'M', 'M', 'M', 'M'], ['Y', 'Y', 'Y', 'Y', 'Y', 'Y', 'Y', 'Y', 'Y', 'Y', 'Y', 'Y', 'Y', 'Y', 'Y']], [['M', 'M', 'M', 'M', 'M', 'M', 'M', 'M', 'M', 'M', 'M', 'M', 'M', 'M', 'M'], ['Y', 'Y', 'Y', 'Y', 'Y', 'Y', 'Y', 'Y', 'Y', 'Y', 'Y', 'Y', 'Y', 'Y', 'Y']], [['M', 'M', 'M', 'M', 'M', 'M', 'M', 'M', 'M', 'M', 'M', 'M', 'M', 'M', 'M'], ['Y', 'Y', 'Y', 'Y', 'Y', 'Y', 'Y', 'Y', 'Y', 'Y', 'Y', 'Y', 'Y', 'Y', 'Y']], [['M', 'M', 'M', 'M', 'M', 'M', 'M', 'M', 'M', 'M', 'M', 'M', 'M', 'M', 'M'], ['Y', 'Y', 'Y', 'Y', 'Y', 'Y', 'Y', 'Y', 'Y', 'Y', 'Y', 'Y', 'Y', 'Y', 'Y']], [['M', 'M', 'M', 'M', 'M', 'M', 'M', 'M', 'M', 'M', 'M', 'M', 'M', 'M', 'M'], ['Y', 'Y', 'Y', 'Y', 'Y', 'Y', 'Y', 'Y', 'Y', 'Y', 'Y', 'Y', 'Y', 'Y', 'Y']], [['M', 'M', 'M', 'M', 'M', 'M', 'M', 'M', 'M', 'M', 'M', 'M', 'M', 'M', 'M'], ['Y', 'Y', 'Y', 'Y', 'Y', 'Y', 'Y', 'Y', 'Y', 'Y', 'Y', 'Y', 'Y', 'Y', 'Y']], [['M', 'M', 'M', 'M', 'M', 'M', 'M', 'M', 'M', 'M', 'M', 'M', 'M', 'M', 'M'], ['Y', 'Y', 'Y', 'Y', 'Y', 'Y', 'Y', 'Y', 'Y', 'Y', 'Y', 'Y', 'Y', 'Y', 'Y']], [['M', 'M', 'M', 'M', 'M', 'M', 'M', 'M', 'M', 'M', 'M', 'M', 'M', 'M', 'M'], ['Y', 'Y', 'Y', 'Y', 'Y', 'Y', 'Y', 'Y', 'Y', 'Y', 'Y', 'Y', 'Y', 'Y', 'Y']], [['M', 'M', 'M', 'M', 'M', 'M', 'M', 'M', 'M', 'M', 'M', 'M', 'M', 'M', 'M'], ['Y', 'Y', 'Y', 'Y', 'Y', 'Y', 'Y', 'Y', 'Y', 'Y', 'Y', 'Y', 'Y', 'Y', 'Y']], [['M', 'M', 'M', 'M', 'M', 'M', 'M', 'M', 'M', 'M', 'M', 'M', 'M', 'M', 'M'], ['Y', 'Y', 'Y', 'Y', 'Y', 'Y', 'Y', 'Y', 'Y', 'Y', 'Y', 'Y', 'Y', 'Y', 'Y']]]\n"
     ]
    }
   ],
   "source": [
    "# Checkpoint \n",
    "\n",
    "print(f1_offspring)"
   ]
  },
  {
   "cell_type": "code",
   "execution_count": 10,
   "id": "85b9b62f-1e90-4176-81d0-a5da4b1ed6ea",
   "metadata": {},
   "outputs": [],
   "source": [
    "# Pick two distinct F1 parents at random from F1 population\n",
    "parent_indices = np.random.choice(len(f1_offspring), 2, replace=False) # The same individual can not be picked twice.\n",
    "\n",
    "# Get the F1 individual corresponding to the first selected index \n",
    "parent_a = f1_offspring[parent_indices[0]]\n",
    "# Get the F1 individual corresponding to the second selected index\n",
    "parent_b = f1_offspring[parent_indices[1]]"
   ]
  },
  {
   "cell_type": "code",
   "execution_count": 11,
   "id": "128a9d4c-6bd6-41cb-bebf-061290ba076a",
   "metadata": {},
   "outputs": [
    {
     "name": "stdout",
     "output_type": "stream",
     "text": [
      "[['M', 'M', 'M', 'M', 'M', 'M', 'M', 'M', 'M', 'M', 'M', 'M', 'M', 'M', 'M'], ['Y', 'Y', 'Y', 'Y', 'Y', 'Y', 'Y', 'Y', 'Y', 'Y', 'Y', 'Y', 'Y', 'Y', 'Y']]\n",
      "[['M', 'M', 'M', 'M', 'M', 'M', 'M', 'M', 'M', 'M', 'M', 'M', 'M', 'M', 'M'], ['Y', 'Y', 'Y', 'Y', 'Y', 'Y', 'Y', 'Y', 'Y', 'Y', 'Y', 'Y', 'Y', 'Y', 'Y']]\n"
     ]
    }
   ],
   "source": [
    "# Checkpoint\n",
    "\n",
    "print(parent_a)\n",
    "print(parent_b)"
   ]
  },
  {
   "cell_type": "code",
   "execution_count": 12,
   "id": "78c81f54-c1d2-4e70-b6b3-ea44642737db",
   "metadata": {},
   "outputs": [
    {
     "name": "stdout",
     "output_type": "stream",
     "text": [
      "[8 0]\n"
     ]
    }
   ],
   "source": [
    "# Checkpoint\n",
    "\n",
    "print(parent_indices)"
   ]
  },
  {
   "cell_type": "code",
   "execution_count": 13,
   "id": "b0108747-bdf0-4e6a-91f8-930152f6f4f2",
   "metadata": {},
   "outputs": [],
   "source": [
    "# Get which MM and YY parents made each selected F1 parent\n",
    "f1a_mm_index, f1a_yy_index = f1_parent_indices[parent_indices[0]]\n",
    "f1b_mm_index, f1b_yy_index = f1_parent_indices[parent_indices[1]]\n",
    "\n",
    "# Fetch the actual individuals\n",
    "mm_parent_a = magenta_parents[f1a_mm_index]\n",
    "yy_parent_a = yellow_parents[f1a_yy_index]\n",
    "\n",
    "mm_parent_b = magenta_parents[f1b_mm_index]\n",
    "yy_parent_b = yellow_parents[f1b_yy_index]\n",
    "\n",
    "# F1 individuals already known:\n",
    "f1_a = parent_a\n",
    "f1_b = parent_b"
   ]
  },
  {
   "cell_type": "code",
   "execution_count": 14,
   "id": "ddf95260-cf76-498d-90f9-273b20213fc1",
   "metadata": {},
   "outputs": [
    {
     "data": {
      "image/png": "[encoded data removed]",
      "text/plain": [
       "<Figure size 1400x300 with 8 Axes>"
      ]
     },
     "metadata": {},
     "output_type": "display_data"
    }
   ],
   "source": [
    "# Visualise parents \n",
    "# Set up colour map\n",
    "color_map = {'M': 'deeppink', 'Y': 'gold'}\n",
    "\n",
    "# Create figure: 4 parents in columns, 2 strands (rows) per individual\n",
    "fig, axs = plt.subplots(2, 4, figsize=(14, 3), sharex=True)\n",
    "\n",
    "# Titles for columns (individuals)\n",
    "titles = [\"MM Parent A\", \"YY Parent A\", \"MM Parent B\", \"YY Parent B\"]\n",
    "\n",
    "# Strand data grouped per individual\n",
    "parent_strand_pairs = [\n",
    "    (mm_parent_a[0], mm_parent_a[1]),\n",
    "    (yy_parent_a[0], yy_parent_a[1]),\n",
    "    (mm_parent_b[0], mm_parent_b[1]),\n",
    "    (yy_parent_b[0], yy_parent_b[1])\n",
    "]\n",
    "\n",
    "# Plot each individual's strands\n",
    "for col, (strand1, strand2) in enumerate(parent_strand_pairs):\n",
    "    for row, strand in enumerate([strand1, strand2]):\n",
    "        for i, allele in enumerate(strand):\n",
    "            axs[row][col].add_patch(mpatches.Rectangle((i, 0), 1, 1, color=color_map[allele]))\n",
    "        axs[row][col].set_xlim(0, chromosome_length)\n",
    "        axs[row][col].set_ylim(0, 1)\n",
    "        axs[row][col].axis('off')\n",
    "\n",
    "    # Add title above column\n",
    "    axs[0][col].set_title(titles[col], fontsize=10)\n",
    "\n",
    "# Add strand labels to left side\n",
    "axs[0][0].text(-2, 0.5, \"Strand 1\", va='center', ha='right', fontsize=10)\n",
    "axs[1][0].text(-2, 0.5, \"Strand 2\", va='center', ha='right', fontsize=10)\n",
    "\n",
    "# Add legend\n",
    "legend_patches = [\n",
    "    mpatches.Patch(color='deeppink', label='M (Magenta)'),\n",
    "    mpatches.Patch(color='gold', label='Y (Yellow)')\n",
    "]\n",
    "axs[0][3].legend(handles=legend_patches, loc='center left', bbox_to_anchor=(1, 0.5), frameon=False)\n",
    "\n",
    "plt.tight_layout()\n",
    "plt.show()"
   ]
  },
  {
   "cell_type": "code",
   "execution_count": 15,
   "id": "018ada39-fbc2-4792-89bc-cfe45443e1eb",
   "metadata": {},
   "outputs": [
    {
     "data": {
      "image/png": "[encoded data removed]",
      "text/plain": [
       "<Figure size 1000x250 with 4 Axes>"
      ]
     },
     "metadata": {},
     "output_type": "display_data"
    }
   ],
   "source": [
    "# Visualise F1 individuals \n",
    "fig, axs = plt.subplots(2, 2, figsize=(10, 2.5), sharex=True)\n",
    "\n",
    "# Titles for each F1 individual\n",
    "titles = [\"F1 Individual A\", \"F1 Individual B\"]\n",
    "\n",
    "# F1 strand data grouped\n",
    "f1_strand_pairs = [\n",
    "    (f1_a[0], f1_a[1]),\n",
    "    (f1_b[0], f1_b[1])\n",
    "]\n",
    "\n",
    "# Plot each F1 individual\n",
    "for col, (strand1, strand2) in enumerate(f1_strand_pairs):\n",
    "    for row, strand in enumerate([strand1, strand2]):\n",
    "        for i, allele in enumerate(strand):\n",
    "            axs[row][col].add_patch(mpatches.Rectangle((i, 0), 1, 1, color=color_map[allele]))\n",
    "        axs[row][col].set_xlim(0, chromosome_length)\n",
    "        axs[row][col].set_ylim(0, 1)\n",
    "        axs[row][col].axis('off')\n",
    "    axs[0][col].set_title(titles[col], fontsize=10)\n",
    "\n",
    "# Add strand labels to left side\n",
    "axs[0][0].text(-2, 0.5, \"Strand 1\", va='center', ha='right', fontsize=10)\n",
    "axs[1][0].text(-2, 0.5, \"Strand 2\", va='center', ha='right', fontsize=10)\n",
    "\n",
    "# Add legend\n",
    "axs[0][1].legend(handles=legend_patches, loc='center left', bbox_to_anchor=(1, 0.5), frameon=False)\n",
    "\n",
    "plt.tight_layout()\n",
    "plt.show()"
   ]
  },
  {
   "cell_type": "markdown",
   "id": "db6d5405-457c-4677-983a-0584cce79d02",
   "metadata": {},
   "source": [
    "### Hybrid Index Calculation Parents and F1"
   ]
  },
  {
   "cell_type": "code",
   "execution_count": 16,
   "id": "39446364-b8d9-4f51-9718-588bfa9ceeda",
   "metadata": {},
   "outputs": [],
   "source": [
    "# 'M' = magenta, 'Y' = yellow\n",
    "# MM = 2, MY/YM = 1, YY = 0\n",
    "\n",
    "# Function to convert two strands into numeric genotypes\n",
    "def get_numeric_genotype(strand1, strand2):\n",
    "    numeric = []\n",
    "    for a, b in zip(strand1, strand2):\n",
    "        pair = sorted([a, b])  # account for 'MY' and 'YM' \n",
    "        if pair == ['M', 'M']:\n",
    "            numeric.append(2)\n",
    "        elif pair == ['Y', 'Y']:\n",
    "            numeric.append(0)\n",
    "        else:\n",
    "            numeric.append(1)\n",
    "    return numeric\n",
    "\n",
    "# Function to calculate HI and HET from numeric genotype\n",
    "def calculate_hi_het(genotype_numeric):\n",
    "    num_loci = len(genotype_numeric)\n",
    "    total_alleles = 2 * num_loci\n",
    "    num_mm = genotype_numeric.count(2)\n",
    "    num_yy = genotype_numeric.count(0)\n",
    "    num_het = genotype_numeric.count(1)\n",
    "    num_m_alleles = (2 * num_mm) + (1 * num_het)\n",
    "    hi = num_m_alleles / total_alleles\n",
    "    het = num_het / num_loci\n",
    "    return hi, het\n",
    "\n",
    "# Get numerci genotype for each individual \n",
    "\n",
    "# MM and YY parents of F1_A\n",
    "genotype_mm_a = get_numeric_genotype(mm_parent_a[0], mm_parent_a[1])\n",
    "genotype_yy_a = get_numeric_genotype(yy_parent_a[0], yy_parent_a[1])\n",
    "\n",
    "# MM and YY parents of F1_B\n",
    "genotype_mm_b = get_numeric_genotype(mm_parent_b[0], mm_parent_b[1])\n",
    "genotype_yy_b = get_numeric_genotype(yy_parent_b[0], yy_parent_b[1])\n",
    "\n",
    "# F1 Individuals\n",
    "genotype_f1_a = get_numeric_genotype(f1_a[0], f1_a[1])\n",
    "genotype_f1_b = get_numeric_genotype(f1_b[0], f1_b[1])\n",
    "\n",
    "# Calculate HI and HET (Hybrid Index and Heterozygosity)\n",
    "\n",
    "hi_mm_a, het_mm_a = calculate_hi_het(genotype_mm_a)\n",
    "hi_yy_a, het_yy_a = calculate_hi_het(genotype_yy_a)\n",
    "\n",
    "hi_mm_b, het_mm_b = calculate_hi_het(genotype_mm_b)\n",
    "hi_yy_b, het_yy_b = calculate_hi_het(genotype_yy_b)\n",
    "\n",
    "hi_f1_a, het_f1_a = calculate_hi_het(genotype_f1_a)\n",
    "hi_f1_b, het_f1_b = calculate_hi_het(genotype_f1_b)"
   ]
  },
  {
   "cell_type": "code",
   "execution_count": 17,
   "id": "b07dc21c-d78f-4a24-aa3d-4a9a4d78d378",
   "metadata": {
    "scrolled": true
   },
   "outputs": [
    {
     "name": "stdout",
     "output_type": "stream",
     "text": [
      "F1_A's MM Parent -> HI: 1.00, HET: 0.00\n",
      "F1_A's YY Parent -> HI: 0.00, HET: 0.00\n",
      "F1_A Individual  -> HI: 0.50, HET: 1.00\n",
      "\n",
      "F1_B's MM Parent -> HI: 1.00, HET: 0.00\n",
      "F1_B's YY Parent -> HI: 0.00, HET: 0.00\n",
      "F1_B Individual  -> HI: 0.50, HET: 1.00\n"
     ]
    }
   ],
   "source": [
    "# Output results \n",
    "\n",
    "print(f\"F1_A's MM Parent -> HI: {hi_mm_a:.2f}, HET: {het_mm_a:.2f}\")\n",
    "print(f\"F1_A's YY Parent -> HI: {hi_yy_a:.2f}, HET: {het_yy_a:.2f}\")\n",
    "print(f\"F1_A Individual  -> HI: {hi_f1_a:.2f}, HET: {het_f1_a:.2f}\")\n",
    "print()\n",
    "print(f\"F1_B's MM Parent -> HI: {hi_mm_b:.2f}, HET: {het_mm_b:.2f}\")\n",
    "print(f\"F1_B's YY Parent -> HI: {hi_yy_b:.2f}, HET: {het_yy_b:.2f}\")\n",
    "print(f\"F1_B Individual  -> HI: {hi_f1_b:.2f}, HET: {het_f1_b:.2f}\")\n"
   ]
  },
  {
   "cell_type": "markdown",
   "id": "40ebae29-81ef-4cc3-8064-67c7aed106db",
   "metadata": {},
   "source": [
    "### F2 generation"
   ]
  },
  {
   "cell_type": "code",
   "execution_count": 18,
   "id": "4563b0b6-843a-4504-865c-d8fda42fbd3b",
   "metadata": {},
   "outputs": [],
   "source": [
    "# Simulate F2 offspring\n",
    "# Create an empty list for new F2 strands\n",
    "strand_1 = []\n",
    "strand_2 = []\n",
    "\n",
    "# Randomly choose which F1 parent to start with for creating the F2\n",
    "strand_1_source = np.random.choice([0, 1])  # 0 = parent A, 1 = parent B\n",
    "strand_2_source = np.random.choice([0, 1])\n",
    "\n",
    "# Loop through each position (locus) in the chromosome \n",
    "for i in range(chromosome_length):\n",
    "\n",
    "    #For strand 1, randomly select if recombination happens at this position based on the recomb_prob.\n",
    "    #If yes, switch the source parent for this strand. \n",
    "    if i > 0 and np.random.rand() < recomb_probs[i]:\n",
    "        strand_1_source = 1 - strand_1_source # Work between parent 0 and 1 \n",
    "\n",
    "    # For strand 2, do the same as above and change where required. \n",
    "    if i > 0 and np.random.rand() < recomb_probs[i]:\n",
    "        strand_2_source = 1 - strand_2_source\n",
    "\n",
    "    # Append allele from designated parent and position. \n",
    "    # Dependent on the source parent. \n",
    "    strand_1.append(parent_a[strand_1_source][i] if strand_1_source == 0 else parent_b[strand_1_source][i])\n",
    "    strand_2.append(parent_a[strand_2_source][i] if strand_2_source == 0 else parent_b[strand_2_source][i])"
   ]
  },
  {
   "cell_type": "code",
   "execution_count": 19,
   "id": "a65232bd-1d70-49c1-8b86-24194bb9017c",
   "metadata": {},
   "outputs": [
    {
     "name": "stdout",
     "output_type": "stream",
     "text": [
      "F2 offspring strands generated:\n",
      "Strand 1: ['M', 'M', 'M', 'M', 'M', 'M', 'Y', 'Y', 'Y', 'Y', 'Y', 'Y', 'Y', 'Y', 'Y']\n",
      "Strand 2: ['M', 'M', 'M', 'M', 'M', 'M', 'M', 'M', 'Y', 'M', 'Y', 'Y', 'Y', 'Y', 'Y']\n"
     ]
    }
   ],
   "source": [
    "# Checkpoint: print strand data\n",
    "\n",
    "print(\"F2 offspring strands generated:\")\n",
    "print(\"Strand 1:\", strand_1)\n",
    "print(\"Strand 2:\", strand_2)"
   ]
  },
  {
   "cell_type": "code",
   "execution_count": 20,
   "id": "796885ec-15df-46b5-8946-2d97feea0be3",
   "metadata": {},
   "outputs": [],
   "source": [
    "# Compute genotype numeric representation\n",
    "# Create lists to store numeric and label data\n",
    "f2_chromosome = []          # Numerical representation (2, 1, 0)\n",
    "f2_genotype_labels = []     # Actual strand combinations ('MM', 'MY', 'YM', 'YY')\n",
    "\n",
    "# Loop through alleles at each position from both strands at the same time.\n",
    "for a, b in zip(strand_1, strand_2):\n",
    "\n",
    "    # Combine into pairs and assign numeric genotype\n",
    "    pair = sorted([a, b])\n",
    "    \n",
    "    if pair == ['M', 'M']:\n",
    "        f2_chromosome.append(2)\n",
    "        f2_genotype_labels.append('MM')\n",
    "    elif pair == ['Y', 'Y']:\n",
    "        f2_chromosome.append(0)\n",
    "        f2_genotype_labels.append('YY')\n",
    "    else:\n",
    "        f2_chromosome.append(1)\n",
    "        f2_genotype_labels.append(a + b)  #Actual orientation: 'MY' or 'YM'"
   ]
  },
  {
   "cell_type": "code",
   "execution_count": 21,
   "id": "213534a2-6529-41cb-a162-ba686d239e60",
   "metadata": {},
   "outputs": [
    {
     "name": "stdout",
     "output_type": "stream",
     "text": [
      "F2 genotype numeric values: [2, 2, 2, 2, 2, 2, 1, 1, 0, 1, 0, 0, 0, 0, 0]\n",
      "F2 genotype strand labels : ['MM', 'MM', 'MM', 'MM', 'MM', 'MM', 'YM', 'YM', 'YY', 'YM', 'YY', 'YY', 'YY', 'YY', 'YY']\n"
     ]
    }
   ],
   "source": [
    "# Checkpoint: print genotype array\n",
    "\n",
    "print(\"F2 genotype numeric values:\", f2_chromosome)\n",
    "print(\"F2 genotype strand labels :\", f2_genotype_labels)"
   ]
  },
  {
   "cell_type": "code",
   "execution_count": 22,
   "id": "54ab4383-9ec4-4ccd-8869-4c489bc85d6c",
   "metadata": {},
   "outputs": [
    {
     "data": {
      "image/png": "[encoded data removed]",
      "text/plain": [
       "<Figure size 1200x400 with 4 Axes>"
      ]
     },
     "metadata": {},
     "output_type": "display_data"
    }
   ],
   "source": [
    "# Visualise F2 chromosome\n",
    "# Define colour for M and Y\n",
    "color_map = {'M': 'deeppink', 'Y': 'gold'}\n",
    "# Create a figure with 4 vertically stacked subplots \n",
    "fig, axs = plt.subplots(4, 1, figsize=(12, 4), sharex=True)\n",
    "\n",
    "# Set titles for each subplot row\n",
    "axs[0].set_title(\"Allele Strand 1\")\n",
    "axs[1].set_title(\"Allele Strand 2\")\n",
    "axs[2].set_title(\"Genotype Numeric (2=MM, 1=MY/YM, 0=YY)\")\n",
    "axs[3].set_title(\"Genotype Labels (e.g., MY, YM)\")\n",
    "\n",
    "# Plot all allele colours, geotype values  and labels \n",
    "for i, allele in enumerate(strand_1):\n",
    "    axs[0].add_patch(mpatches.Rectangle((i, 0), 1, 1, color=color_map[allele]))\n",
    "for i, allele in enumerate(strand_2):\n",
    "    axs[1].add_patch(mpatches.Rectangle((i, 0), 1, 1, color=color_map[allele]))\n",
    "for i, val in enumerate(f2_chromosome):\n",
    "    axs[2].text(i + 0.4, 0.5, str(val), fontsize=12)\n",
    "    axs[2].add_patch(mpatches.Rectangle((i, 0), 1, 1, edgecolor='black', facecolor='white', fill=False))\n",
    "for i, label in enumerate(f2_genotype_labels):\n",
    "    axs[3].text(i + 0.3, 0.5, label, fontsize=10)\n",
    "    axs[3].add_patch(mpatches.Rectangle((i, 0), 1, 1, edgecolor='grey', facecolor='white', fill=False))\n",
    "\n",
    "# Format each subplot\n",
    "for ax in axs:\n",
    "    ax.set_xlim(0, chromosome_length)\n",
    "    ax.set_ylim(0, 1)\n",
    "    ax.axis('off')\n",
    "\n",
    "# Add legend\n",
    "legend_patches = [\n",
    "    mpatches.Patch(color='deeppink', label='M (Magenta)'),\n",
    "    mpatches.Patch(color='gold', label='Y (Yellow)')\n",
    "]\n",
    "axs[0].legend(handles=legend_patches, loc='center left', bbox_to_anchor=(1, 0.5), frameon=False)\n",
    "\n",
    "# Adjust spacing and display \n",
    "plt.tight_layout()\n",
    "plt.show()"
   ]
  },
  {
   "cell_type": "code",
   "execution_count": 23,
   "id": "8d69ef75-9379-4253-b249-b44dfe52d48d",
   "metadata": {},
   "outputs": [
    {
     "name": "stdout",
     "output_type": "stream",
     "text": [
      "Strand 1: ['M', 'M', 'M', 'M', 'M', 'M', 'Y', 'Y', 'Y', 'Y', 'Y', 'Y', 'Y', 'Y', 'Y']\n",
      "Strand 2: ['M', 'M', 'M', 'M', 'M', 'M', 'M', 'M', 'Y', 'M', 'Y', 'Y', 'Y', 'Y', 'Y']\n",
      "F2 Chromosome Genotype: [2, 2, 2, 2, 2, 2, 1, 1, 0, 1, 0, 0, 0, 0, 0]\n"
     ]
    }
   ],
   "source": [
    "# Checkpoint - for verification purposes \n",
    "\n",
    "print(\"Strand 1:\", strand_1)\n",
    "print(\"Strand 2:\", strand_2)\n",
    "print(\"F2 Chromosome Genotype:\", f2_chromosome)"
   ]
  },
  {
   "cell_type": "markdown",
   "id": "1ceac424-7314-42ae-9f43-90fe00233586",
   "metadata": {},
   "source": [
    "### Hybrid Index Calculation F2"
   ]
  },
  {
   "cell_type": "code",
   "execution_count": 27,
   "id": "0d79fdf4-12a4-43db-aec1-b9d44a9508d2",
   "metadata": {},
   "outputs": [],
   "source": [
    "# Genotype representatives \n",
    "# 2 = MM\n",
    "# 1 = MY or YM\n",
    "# 0 = YY\n",
    "\n",
    "# F2 individual’s genotype\n",
    "genotype_numeric = f2_chromosome  \n",
    "\n",
    "# Count the total number of loci (positions along the chromosome)\n",
    "num_loci = len(genotype_numeric)\n",
    "\n",
    "# Each locus has 2 alleles, so total alleles = 2 * number of loci\n",
    "total_alleles = 2 * num_loci\n",
    "\n",
    "# Count MM loci (value = 2)\n",
    "num_mm = genotype_numeric.count(2)\n",
    "\n",
    "# Count heterzygous loci (MY or YM) (value = 1)\n",
    "num_het = genotype_numeric.count(1)\n",
    "\n",
    "# Count YY loci (value = 0)\n",
    "num_yy = genotype_numeric.count(0)\n",
    "\n",
    "# Calculate the total number of M alleles for hybrid index claculation \n",
    "# Each MM contributes 2 M alleles\n",
    "# Each MY/YM contributes 1 M allele\n",
    "# YY contributes 0 M alleles\n",
    "num_m_alleles = (2 * num_mm) + (1 * num_het)\n",
    "\n",
    "# Hybrid Index Calculation \n",
    "# Proportion of M alleles out of all alleles\n",
    "hybrid_index = num_m_alleles / total_alleles\n",
    "\n",
    "# Calculate heterozygosity:\n",
    "# This is the proportion of heterozygous loci\n",
    "heterozygosity = num_het / num_loci\n",
    "\n",
    "hi_f2 = hybrid_index\n",
    "het_f2 = heterozygosity\n"
   ]
  },
  {
   "cell_type": "code",
   "execution_count": 28,
   "id": "8347a31c-9d0b-4465-a0cf-d3414929d224",
   "metadata": {
    "scrolled": true
   },
   "outputs": [
    {
     "name": "stdout",
     "output_type": "stream",
     "text": [
      "0.5\n",
      "0.2\n"
     ]
    }
   ],
   "source": [
    "# Print results\n",
    "print(hi_f2) # Value from 0 (YY) to 1 (MM)\n",
    "print(het_f2) # Value from 0 (none heterozygous) to 1 (all heterozygous) along loci"
   ]
  },
  {
   "cell_type": "code",
   "execution_count": 29,
   "id": "67ac0453-a6e4-4121-a399-8a4b6b9c2b7a",
   "metadata": {},
   "outputs": [],
   "source": [
    "# Example output: \n",
    "\n",
    "#Hybrid Index: 0.50\n",
    "#Heterozygosity: 0.20\n",
    "\n",
    "#Hybrid index is not skewed to either M or Y here. "
   ]
  },
  {
   "cell_type": "markdown",
   "id": "1bf32d71-e5aa-45ef-9efc-1d63e0e1dfd3",
   "metadata": {},
   "source": [
    "### Triangle Plot"
   ]
  },
  {
   "cell_type": "code",
   "execution_count": 30,
   "id": "ef223c42-5d8b-40c0-8eb5-fe22092a797e",
   "metadata": {},
   "outputs": [],
   "source": [
    "# Lists for plotting to contain HI, Het for each specific individual plotting points. \n",
    "points = [\n",
    "    (hi_mm_a, het_mm_a), # F1_A MM parent\n",
    "    (hi_yy_a, het_yy_a), # F1_A YY parent\n",
    "    (hi_f1_a, het_f1_a), # F1_A individual \n",
    "    \n",
    "    (hi_mm_b, het_mm_b), # F1_B MM parent \n",
    "    (hi_yy_b, het_yy_b), # F1_B YY parent \n",
    "    (hi_f1_b, het_f1_b), # F1_B individual \n",
    "    \n",
    "    (hi_f2, het_f2), # F2 individual \n",
    "]\n",
    "\n",
    "# Create a list for each point above to be labelled \n",
    "# Labels for annotation on graph \n",
    "\n",
    "labels = [\n",
    "    \"MM_A\", \"YY_A\", \"F1_A\",\n",
    "    \"MM_B\", \"YY_B\", \"F1_B\",\n",
    "    \"F2\"  \n",
    "]"
   ]
  },
  {
   "cell_type": "code",
   "execution_count": 33,
   "id": "8aaf2fc8-53ad-4527-9273-4a9d62406677",
   "metadata": {},
   "outputs": [
    {
     "data": {
      "image/png": "[encoded data removed]",
      "text/plain": [
       "<Figure size 800x800 with 1 Axes>"
      ]
     },
     "metadata": {},
     "output_type": "display_data"
    }
   ],
   "source": [
    "# Indicate plotting scale\n",
    "# Hybrid index (HI) goes from 0 to 1 on the x-axis (from YY to MM)\n",
    "# Heterozygosity (HET) goes from 0 to 1 on the y-axis (max at 50:50 inheritance)\n",
    "\n",
    "# Define colours for each label\n",
    "label_colors = {\n",
    "    \"YY_A\": \"gold\",      # Yellow parent\n",
    "    \"MM_A\": \"deeppink\",  # Magenta parent\n",
    "    \"YY_B\": \"gold\",\n",
    "    \"MM_B\": \"deeppink\",\n",
    "    \"F1_A\": \"skyblue\",\n",
    "    \"F1_B\": \"skyblue\",\n",
    "    \"F2\": \"black\"\n",
    "}\n",
    "\n",
    "# Create the plot\n",
    "fig, ax = plt.subplots(figsize=(8, 8))\n",
    "\n",
    "# Label axes\n",
    "ax.set_xlabel(\"Hybrid Index (prop M alleles)\", fontsize=12)\n",
    "ax.set_ylabel(\"Heterozygosity (prop heterozygous loci)\", fontsize=12)\n",
    "\n",
    "# Track legend handles\n",
    "legend_handles = []\n",
    "\n",
    "# Plot points\n",
    "for (x, y), label in zip(points, labels):\n",
    "    color = label_colors.get(label, \"blue\")  # Default color\n",
    "    ax.plot(x, y, 'o', markersize=8, color=color, label=label)\n",
    "\n",
    "    # Only label F2 directly on the plot\n",
    "    if label == \"F2\":\n",
    "        ax.text(x + 0.015, y + 0.015, label, fontsize=10)\n",
    "\n",
    "# Set axis limits and grid\n",
    "ax.set_xlim(0, 1)\n",
    "ax.set_ylim(0, 1)\n",
    "ax.grid(False)\n",
    "ax.set_title(\"Hybrid Index vs. Heterozygosity\", fontsize=14)\n",
    "\n",
    "# Add triangle boundary\n",
    "triangle_coords = [\n",
    "    (0.0, 0.0),  # Pure YY\n",
    "    (0.5, 1.0),  # Max heterozygosity (pure F1)\n",
    "    (1.0, 0.0),  # Pure MM\n",
    "    (0.0, 0.0)   # Close the triangle\n",
    "]\n",
    "triangle_x, triangle_y = zip(*triangle_coords)\n",
    "ax.plot(triangle_x, triangle_y, linestyle='-', color='gray', linewidth=1.5, alpha=0.7)\n",
    "\n",
    "# Create legend (exclude F2 because it's labelled on-plot)\n",
    "handles, labels_out = ax.get_legend_handles_labels()\n",
    "filtered_handles = [h for h, l in zip(handles, labels_out) if l != \"F2\"]\n",
    "filtered_labels = [l for l in labels_out if l != \"F2\"]\n",
    "ax.legend(filtered_handles, filtered_labels, loc=\"lower center\", bbox_to_anchor=(0.5, -0.15), ncol=3, frameon=False)\n",
    "\n",
    "plt.tight_layout()\n",
    "plt.show()\n"
   ]
  }
 ],
 "metadata": {
  "kernelspec": {
   "display_name": "Python 3 (ipykernel)",
   "language": "python",
   "name": "python3"
  },
  "language_info": {
   "codemirror_mode": {
    "name": "ipython",
    "version": 3
   },
   "file_extension": ".py",
   "mimetype": "text/x-python",
   "name": "python",
   "nbconvert_exporter": "python",
   "pygments_lexer": "ipython3",
   "version": "3.12.9"
  }
 },
 "nbformat": 4,
 "nbformat_minor": 5
}

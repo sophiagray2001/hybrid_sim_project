{
 "cells": [
  {
   "cell_type": "markdown",
   "id": "d75f21ab-2db9-4220-acd2-185844c9afce",
   "metadata": {},
   "source": [
    "### Block Data Analysis Script"
   ]
  },
  {
   "cell_type": "code",
   "execution_count": null,
   "id": "0cf67a3e-9a01-4f4d-ab89-f62d39673174",
   "metadata": {},
   "outputs": [],
   "source": [
    "# this script will take the dataframe outputs from the simulation and analyse/visualise."
   ]
  },
  {
   "cell_type": "code",
   "execution_count": null,
   "id": "1001f968-bc57-4385-80fb-a32ca4712eff",
   "metadata": {},
   "outputs": [],
   "source": [
    "#Cell 1\n",
    "import pandas as pd\n",
    "import matplotlib.pyplot as plt\n",
    "import seaborn as sns\n",
    "import os # For path joining"
   ]
  },
  {
   "cell_type": "code",
   "execution_count": null,
   "id": "a38cb476-abf2-4a79-84ce-b03414bb9318",
   "metadata": {},
   "outputs": [],
   "source": [
    "#Cell 2\n",
    "# Define the path to your saved chromatid_recombination_data.csv\n",
    "# Make sure this path matches where you saved the file from your simulation script.\n",
    "# Example: If you saved it in a 'simulation_results' folder:\n",
    "data_folder = \"simulation_results\"\n",
    "recombination_data_filename = \"chromatid_recombination_data.csv\"\n",
    "full_path_to_recomb_data = os.path.join(data_folder, recombination_data_filename)\n",
    "\n",
    "print(f\"Attempting to load data from: {full_path_to_recomb_data}\")\n",
    "\n",
    "try:\n",
    "    chromatid_recomb_df = pd.read_csv(full_path_to_recomb_data)\n",
    "    print(\"Data loaded successfully!\")\n",
    "    print(\"\\n--- Initial glance at the DataFrame ---\")\n",
    "    print(chromatid_recomb_df.head())\n",
    "    print(\"\\n--- DataFrame Info ---\")\n",
    "    chromatid_recomb_df.info()\n",
    "except FileNotFoundError:\n",
    "    print(f\"Error: The file '{full_path_to_recomb_data}' was not found.\")\n",
    "    print(\"Please ensure you have run your simulation script and saved the recombination data.\")\n",
    "    print(\"Also, double-check the 'data_folder' and 'recombination_data_filename' variables.\")\n",
    "    exit() # Exit the script if data can't be loaded"
   ]
  },
  {
   "cell_type": "code",
   "execution_count": null,
   "id": "4a5ba6d4-4a27-4222-b9df-5e64df494733",
   "metadata": {},
   "outputs": [],
   "source": [
    "# Cell 3\n",
    "\n",
    "# If 'block_lengths' or 'block_alleles' are stored as strings (e.g., \"[10, 20, 30]\"),\n",
    "# you'll need to convert them to actual lists.\n",
    "# This is crucial for correctly analyzing block lengths.\n",
    "def parse_list_string(s):\n",
    "    try:\n",
    "        # Evaluate the string as a Python literal (e.g., \"[1, 2, 3]\")\n",
    "        return eval(s)\n",
    "    except (SyntaxError, TypeError):\n",
    "        return [] # Return empty list if parsing fails\n",
    "\n",
    "if 'block_lengths' in chromatid_recomb_df.columns and isinstance(chromatid_recomb_df['block_lengths'].iloc[0], str):\n",
    "    print(\"\\nConverting 'block_lengths' from string to list...\")\n",
    "    chromatid_recomb_df['block_lengths'] = chromatid_recomb_df['block_lengths'].apply(parse_list_string)\n",
    "\n",
    "if 'block_alleles' in chromatid_recomb_df.columns and isinstance(chromatid_recomb_df['block_alleles'].iloc[0], str):\n",
    "    print(\"Converting 'block_alleles' from string to list...\")\n",
    "    chromatid_recomb_df['block_alleles'] = chromatid_recomb_df['block_alleles'].apply(parse_list_string)\n",
    "\n",
    "\n",
    "# Ensure 'generation' is treated as a categorical type for consistent ordering in plots\n",
    "# You might need a custom sort order for generations (e.g., P_A, P_B, F1, F2, BC1A, etc.)\n",
    "# For now, we'll use a natural sort.\n",
    "def natural_sort_key(s):\n",
    "    return [int(text) if text.isdigit() else text.lower() for text in re.split('([0-9]+)', s)]\n",
    "\n",
    "import re # Ensure re is imported for natural_sort_key\n",
    "\n",
    "unique_generations = sorted(chromatid_recomb_df['generation'].unique(), key=natural_sort_key)\n",
    "chromatid_recomb_df['generation'] = pd.Categorical(\n",
    "    chromatid_recomb_df['generation'],\n",
    "    categories=unique_generations,\n",
    "    ordered=True\n",
    ")"
   ]
  },
  {
   "cell_type": "code",
   "execution_count": null,
   "id": "d03073e7-0bee-4867-a63f-543566b05487",
   "metadata": {},
   "outputs": [],
   "source": [
    "# Cell 4\n",
    "\n",
    "print(\"\\n--- Analysis: Average Number of Junctions per Chromatid ---\")\n",
    "avg_junctions_per_gen = chromatid_recomb_df.groupby('generation')['total_junctions'].mean().reset_index()\n",
    "print(\"Average junctions per chromatid per generation:\")\n",
    "print(avg_junctions_per_gen)"
   ]
  },
  {
   "cell_type": "code",
   "execution_count": null,
   "id": "39ba38b8-94b8-49b9-a316-ac9ae24c880c",
   "metadata": {},
   "outputs": [],
   "source": [
    "# Cell 5\n",
    "\n",
    "print(\"\\n--- Analysis: Distribution of Junctions per Generation ---\")\n",
    "\n",
    "# Plotting the distribution of total_junctions for each generation\n",
    "plt.figure(figsize=(12, 6))\n",
    "sns.boxplot(x='generation', y='total_junctions', data=chromatid_recomb_df)\n",
    "plt.title('Distribution of Total Junctions per Chromatid Across Generations')\n",
    "plt.xlabel('Generation')\n",
    "plt.ylabel('Total Junctions (Crossovers)')\n",
    "plt.grid(axis='y', linestyle='--', alpha=0.7)\n",
    "plt.tight_layout()\n",
    "plt.show()\n",
    "\n",
    "# You can also get counts for each number of junctions\n",
    "junction_counts_per_gen = chromatid_recomb_df.groupby('generation')['total_junctions'].value_counts().unstack(fill_value=0)\n",
    "print(\"\\nCounts of junction numbers per generation:\")\n",
    "print(junction_counts_per_gen)\n"
   ]
  },
  {
   "cell_type": "code",
   "execution_count": null,
   "id": "e2254025-5889-4aad-9844-e2b1eaecfd22",
   "metadata": {},
   "outputs": [],
   "source": [
    "# Cell 6 \n",
    "\n",
    "print(\"\\n--- Analysis: Average Block Lengths per Chromatid ---\")\n",
    "\n",
    "# Explode the list of block lengths into individual rows for easier calculation\n",
    "# This creates a new DataFrame where each block length gets its own row\n",
    "exploded_blocks_df = chromatid_recomb_df.explode('block_lengths')\n",
    "\n",
    "# Convert exploded 'block_lengths' to numeric, handling potential errors\n",
    "exploded_blocks_df['block_lengths'] = pd.to_numeric(exploded_blocks_df['block_lengths'], errors='coerce')\n",
    "exploded_blocks_df.dropna(subset=['block_lengths'], inplace=True) # Remove rows where conversion failed\n",
    "\n",
    "avg_block_length_per_gen = exploded_blocks_df.groupby('generation')['block_lengths'].mean().reset_index()\n",
    "print(\"Average block length per generation:\")\n",
    "print(avg_block_length_per_gen)"
   ]
  },
  {
   "cell_type": "code",
   "execution_count": null,
   "id": "39017588-9449-4324-bcad-0b381d911ea7",
   "metadata": {},
   "outputs": [],
   "source": [
    "# Cell 7\n",
    "\n",
    "print(\"\\n--- Analysis: Distribution of Block Lengths per Generation ---\")\n",
    "\n",
    "# Plotting the distribution of block lengths for each generation\n",
    "plt.figure(figsize=(12, 6))\n",
    "sns.boxplot(x='generation', y='block_lengths', data=exploded_blocks_df)\n",
    "plt.title('Distribution of Block Lengths Across Generations')\n",
    "plt.xlabel('Generation')\n",
    "plt.ylabel('Block Length (number of loci)')\n",
    "plt.grid(axis='y', linestyle='--', alpha=0.7)\n",
    "plt.tight_layout()\n",
    "plt.show()\n",
    "\n",
    "# You can also look at specific percentiles or histograms\n",
    "# Example: Histogram for F2 block lengths\n",
    "if 'F2' in exploded_blocks_df['generation'].unique():\n",
    "    plt.figure(figsize=(8, 5))\n",
    "    sns.histplot(exploded_blocks_df[exploded_blocks_df['generation'] == 'F2']['block_lengths'], bins=30, kde=True)\n",
    "    plt.title('Distribution of Block Lengths in F2 Generation')\n",
    "    plt.xlabel('Block Length (number of loci)')\n",
    "    plt.ylabel('Frequency')\n",
    "    plt.tight_layout()\n",
    "    plt.show()"
   ]
  }
 ],
 "metadata": {
  "kernelspec": {
   "display_name": "Python 3 (ipykernel)",
   "language": "python",
   "name": "python3"
  },
  "language_info": {
   "codemirror_mode": {
    "name": "ipython",
    "version": 3
   },
   "file_extension": ".py",
   "mimetype": "text/x-python",
   "name": "python",
   "nbconvert_exporter": "python",
   "pygments_lexer": "ipython3",
   "version": "3.12.9"
  }
 },
 "nbformat": 4,
 "nbformat_minor": 5
}

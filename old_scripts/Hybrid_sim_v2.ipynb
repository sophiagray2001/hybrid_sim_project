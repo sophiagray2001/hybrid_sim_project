{
 "cells": [
  {
   "cell_type": "markdown",
   "id": "8b0e0aec-3a63-4223-b233-7bbbf27316e8",
   "metadata": {},
   "source": [
    "## Hybrid Sim V2"
   ]
  },
  {
   "cell_type": "code",
   "execution_count": 24,
   "id": "dba354c9-a7ab-451d-bd61-ed85f558c387",
   "metadata": {
    "scrolled": true
   },
   "outputs": [],
   "source": [
    "# Import libraries\n",
    "import numpy as np\n",
    "import matplotlib.pyplot as plt\n",
    "import matplotlib.patches as mpatches"
   ]
  },
  {
   "cell_type": "code",
   "execution_count": 65,
   "id": "ad81234a-decc-41b1-9f36-43f31e63173a",
   "metadata": {
    "scrolled": true
   },
   "outputs": [],
   "source": [
    "# Set a random seed for reproducibility (if not required comment out line)\n",
    "\n",
    "np.random.seed(38)"
   ]
  },
  {
   "cell_type": "code",
   "execution_count": null,
   "id": "56aad701-f803-4c1b-80e8-da5aa6c9151f",
   "metadata": {},
   "outputs": [],
   "source": [
    "# Define constants\n",
    "MAGENTA = 'M'\n",
    "YELLOW = 'Y'\n",
    "chromosome_length = 15 # Total number of positions (loci) on the chromosome "
   ]
  },
  {
   "cell_type": "code",
   "execution_count": 39,
   "id": "f23cb462-7015-4f24-9214-3f4dd7957e93",
   "metadata": {},
   "outputs": [],
   "source": [
    "#Option to change recombination probability. \n",
    "\n",
    "use_uniform_recomb = True  # Change to False to use custom recombination prob.\n",
    "\n",
    "if use_uniform_recomb:\n",
    "    recomb_probs = [0.1] * chromosome_length  # Same recombination probability across all positions\n",
    "    # 10% chance\n",
    "else:\n",
    "    recomb_probs = [0.01, 0.05, 0.2, 0.2, 0.05, 0.01, 0.01, 0.05, 0.2, 0.2, 0.05, 0.01, 0.01, 0.05, 0.01]\n"
   ]
  },
  {
   "cell_type": "markdown",
   "id": "7e8f51d8-6905-40dd-9200-bd3ef4f53576",
   "metadata": {},
   "source": [
    "### Parent generation"
   ]
  },
  {
   "cell_type": "code",
   "execution_count": 40,
   "id": "4637035f-2aef-44fe-839a-1e00f2ebf4a6",
   "metadata": {},
   "outputs": [],
   "source": [
    "# Define parent chromosomes (individuals)\n",
    "magenta_parent = [[MAGENTA] * chromosome_length, [MAGENTA] * chromosome_length]  # MM -> 2\n",
    "yellow_parent = [[YELLOW] * chromosome_length, [YELLOW] * chromosome_length]  # YY -> 0"
   ]
  },
  {
   "cell_type": "code",
   "execution_count": null,
   "id": "b6201e8c-3b9e-4367-a821-2f8f5e0fc91b",
   "metadata": {
    "scrolled": true
   },
   "outputs": [],
   "source": [
    "# Checkpoint \n",
    "\n",
    "print(magenta_parent)\n",
    "print(yellow_parent)"
   ]
  },
  {
   "cell_type": "markdown",
   "id": "aefd6d05-3984-42b5-83ea-1125fad255b9",
   "metadata": {},
   "source": [
    "### F1 generation"
   ]
  },
  {
   "cell_type": "code",
   "execution_count": 42,
   "id": "cc19d1ad-27ec-4772-bd5e-0c23145598ca",
   "metadata": {},
   "outputs": [],
   "source": [
    "# Function to generate F1 population individuals (MY -> 1)\n",
    "def generate_f1_population(n):\n",
    "    f1_population = [] # Create empty list to store F1 individuals \n",
    "    for _ in range(n): # Loop 'n' times to generate 'n' F1 individuals\n",
    "        strand1 = magenta_parent[0]  # Take strand 1 from magenta\n",
    "        strand2 = yellow_parent[1]   # Take strand 2 from yellow\n",
    "        # Combine the two strands to form diploid F1 offspring\n",
    "        f1_population.append([strand1.copy(), strand2.copy()])\n",
    "    return f1_population # Return list of F1 individuals \n",
    "\n",
    "# Create 'n' number of individuals using the function above\n",
    "f1_offspring = generate_f1_population(n=10)"
   ]
  },
  {
   "cell_type": "code",
   "execution_count": null,
   "id": "04388e19-cfbc-4db4-a9f8-d7b941667d86",
   "metadata": {},
   "outputs": [],
   "source": [
    "# Checkpoint \n",
    "\n",
    "print(f1_offspring)"
   ]
  },
  {
   "cell_type": "code",
   "execution_count": 61,
   "id": "85b9b62f-1e90-4176-81d0-a5da4b1ed6ea",
   "metadata": {},
   "outputs": [],
   "source": [
    "# Pick two distinct F1 parents at random from F1 population\n",
    "parent_indices = np.random.choice(len(f1_offspring), 2, replace=False) # The same individual can not be picked twice.\n",
    "\n",
    "# Get the F1 individual corresponding to the first selected index \n",
    "parent_a = f1_offspring[parent_indices[0]]\n",
    "# Get the F1 individual corresponding to the second selected index\n",
    "parent_b = f1_offspring[parent_indices[1]]"
   ]
  },
  {
   "cell_type": "code",
   "execution_count": null,
   "id": "128a9d4c-6bd6-41cb-bebf-061290ba076a",
   "metadata": {
    "scrolled": true
   },
   "outputs": [],
   "source": [
    "# Checkpoint\n",
    "\n",
    "print(parent_a)\n",
    "print(parent_b)"
   ]
  },
  {
   "cell_type": "code",
   "execution_count": 62,
   "id": "78c81f54-c1d2-4e70-b6b3-ea44642737db",
   "metadata": {},
   "outputs": [
    {
     "name": "stdout",
     "output_type": "stream",
     "text": [
      "[2 4]\n"
     ]
    }
   ],
   "source": [
    "# Checkpoint\n",
    "\n",
    "print(parent_indices)"
   ]
  },
  {
   "cell_type": "markdown",
   "id": "40ebae29-81ef-4cc3-8064-67c7aed106db",
   "metadata": {},
   "source": [
    "### F2 generation"
   ]
  },
  {
   "cell_type": "code",
   "execution_count": 52,
   "id": "4563b0b6-843a-4504-865c-d8fda42fbd3b",
   "metadata": {},
   "outputs": [],
   "source": [
    "# Simulate F2 offspring\n",
    "# Create an empty list for new F2 strands\n",
    "strand_1 = []\n",
    "strand_2 = []\n",
    "\n",
    "# Randomly choose which F1 parent to start with for creating the F2\n",
    "strand_1_source = np.random.choice([0, 1])  # 0 = parent A, 1 = parent B\n",
    "strand_2_source = np.random.choice([0, 1])\n",
    "\n",
    "# Loop through each position (locus) in the chromosome \n",
    "for i in range(chromosome_length):\n",
    "\n",
    "    #For strand 1, randomly select if recombination happens at this position based on the recomb_prob.\n",
    "    #If yes, switch the source parent for this strand. \n",
    "    if i > 0 and np.random.rand() < recomb_probs[i]:\n",
    "        strand_1_source = 1 - strand_1_source # Work between parent 0 and 1 \n",
    "\n",
    "    # For strand 2, do the same as above and change where required. \n",
    "    if i > 0 and np.random.rand() < recomb_probs[i]:\n",
    "        strand_2_source = 1 - strand_2_source\n",
    "\n",
    "    # Append allele from designated parent and position. \n",
    "    # Dependent on the source parent. \n",
    "    strand_1.append(parent_a[strand_1_source][i] if strand_1_source == 0 else parent_b[strand_1_source][i])\n",
    "    strand_2.append(parent_a[strand_2_source][i] if strand_2_source == 0 else parent_b[strand_2_source][i])"
   ]
  },
  {
   "cell_type": "code",
   "execution_count": 53,
   "id": "796885ec-15df-46b5-8946-2d97feea0be3",
   "metadata": {},
   "outputs": [],
   "source": [
    "# Compute genotype numeric representation\n",
    "# Create a list to store numeric data\n",
    "f2_chromosome = []\n",
    "\n",
    "# Loop through alleles at each position from both strands at the same time.\n",
    "for a, b in zip(strand_1, strand_2):\n",
    "\n",
    "    # Combine into pairs and assign numeric genotype\n",
    "    pair = sorted([a, b])\n",
    "    if pair == ['M', 'M']:\n",
    "        f2_chromosome.append(2)\n",
    "    elif pair == ['Y', 'Y']:\n",
    "        f2_chromosome.append(0)\n",
    "    else:\n",
    "        f2_chromosome.append(1)"
   ]
  },
  {
   "cell_type": "code",
   "execution_count": 58,
   "id": "54ab4383-9ec4-4ccd-8869-4c489bc85d6c",
   "metadata": {},
   "outputs": [
    {
     "data": {
      "image/png": "[encoded data removed]",
      "text/plain": [
       "<Figure size 1000x300 with 3 Axes>"
      ]
     },
     "metadata": {},
     "output_type": "display_data"
    }
   ],
   "source": [
    "# Visualise chromosome\n",
    "# Define colours \n",
    "color_map = {'M': 'deeppink', 'Y': 'gold'}\n",
    "# Create a figure with horizontal subplots (one for each strand + genotype)\n",
    "fig, axs = plt.subplots(3, 1, figsize=(10, 3), sharex=True)\n",
    "\n",
    "# Titles for each subplot\n",
    "axs[0].set_title(\"Allele Strand 1\") # First haploid strand\n",
    "axs[1].set_title(\"Allele Strand 2\") # Second haploid strand \n",
    "axs[2].set_title(\"Genotype (2=MM, 1=MY, 0=YY)\") # Numerical genotype \n",
    "\n",
    "# Draw coloured rectangles for each allele in strand 1\n",
    "for i, allele in enumerate(strand_1):\n",
    "    axs[0].add_patch(mpatches.Rectangle((i, 0), 1, 1, color=color_map[allele]))\n",
    "# Same for strand 2 \n",
    "for i, allele in enumerate(strand_2):\n",
    "    axs[1].add_patch(mpatches.Rectangle((i, 0), 1, 1, color=color_map[allele]))\n",
    "# Display numeric genotype \n",
    "for i, val in enumerate(f2_chromosome):\n",
    "    axs[2].text(i + 0.4, 0.5, str(val), fontsize=12)\n",
    "    axs[2].add_patch(mpatches.Rectangle((i, 0), 1, 1, edgecolor='black', facecolor='white', fill=False))\n",
    "\n",
    "# Clean plot - remove axis etc. \n",
    "for ax in axs:\n",
    "    ax.set_xlim(0, chromosome_length)\n",
    "    ax.set_ylim(0, 1)\n",
    "    ax.axis('off')\n",
    "\n",
    "# Add a legend\n",
    "legend_handles = [\n",
    "    mpatches.Patch(color='deeppink', label='M allele (Pink)'),\n",
    "    mpatches.Patch(color='gold', label='Y allele (Yellow)')\n",
    "]\n",
    "axs[0].legend(\n",
    "    handles=legend_handles,\n",
    "    loc='center left',           # Position the legend to the right of the plot\n",
    "    bbox_to_anchor=(1.01, 0.5),  # Shift it just outside the plotting area\n",
    "    borderaxespad=0.,            # Reduce padding between plot and legend\n",
    "    frameon=True                 # Optional: draw a box around the legend\n",
    ")\n",
    "\n",
    "# Avoid layout overlap and display the graph\n",
    "plt.tight_layout()\n",
    "plt.show()"
   ]
  },
  {
   "cell_type": "code",
   "execution_count": 55,
   "id": "8d69ef75-9379-4253-b249-b44dfe52d48d",
   "metadata": {},
   "outputs": [
    {
     "name": "stdout",
     "output_type": "stream",
     "text": [
      "Allele Strand 1: ['Y', 'Y', 'Y', 'Y', 'Y', 'Y', 'Y', 'Y', 'Y', 'M', 'Y', 'Y', 'Y', 'Y', 'Y']\n",
      "Allele Strand 2: ['M', 'M', 'M', 'M', 'Y', 'Y', 'Y', 'Y', 'M', 'Y', 'Y', 'Y', 'Y', 'Y', 'Y']\n",
      "F2 Chromosome Genotype: [1, 1, 1, 1, 0, 0, 0, 0, 1, 1, 0, 0, 0, 0, 0]\n"
     ]
    }
   ],
   "source": [
    "# Output for inspection\n",
    "\n",
    "print(\"Allele Strand 1:\", strand_1)\n",
    "print(\"Allele Strand 2:\", strand_2)\n",
    "print(\"F2 Chromosome Genotype:\", f2_chromosome)"
   ]
  }
 ],
 "metadata": {
  "kernelspec": {
   "display_name": "Python 3 (ipykernel)",
   "language": "python",
   "name": "python3"
  },
  "language_info": {
   "codemirror_mode": {
    "name": "ipython",
    "version": 3
   },
   "file_extension": ".py",
   "mimetype": "text/x-python",
   "name": "python",
   "nbconvert_exporter": "python",
   "pygments_lexer": "ipython3",
   "version": "3.12.9"
  }
 },
 "nbformat": 4,
 "nbformat_minor": 5
}
